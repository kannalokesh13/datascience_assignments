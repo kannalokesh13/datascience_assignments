{
 "cells": [
  {
   "cell_type": "code",
   "execution_count": 4,
   "metadata": {},
   "outputs": [],
   "source": [
    "import pandas as pd\n",
    "import numpy as snp\n",
    "import seaborn as sns\n",
    "import matplotlib.pyplot as splt"
   ]
  },
  {
   "cell_type": "markdown",
   "metadata": {},
   "source": [
    "#### Q-3. Consider the ‘Blood Pressure Before’ and ‘Blood Pressure After’ columns from the data and calculate the following\n",
    "#### https://drive.google.com/file/d/1mCjtYHiX--mMUjicuaP2gH3k-SnFxt8Y/view?usp=share_\n",
    "##### a. Measure the dispersion in both and interpret the results.\n",
    "##### b. Calculate mean and 5% confidence interval and plot it in a graph\n",
    "##### c. Calculate the Mean absolute deviation and Standard deviation and interpret the results.\n",
    "##### d. Calculate the correlation coefficient and check the significance of it at 1% level of significance."
   ]
  },
  {
   "cell_type": "code",
   "execution_count": 10,
   "metadata": {},
   "outputs": [],
   "source": [
    "df = pd.read_csv('blood.csv')"
   ]
  },
  {
   "cell_type": "code",
   "execution_count": 11,
   "metadata": {},
   "outputs": [
    {
     "data": {
      "text/html": [
       "<div>\n",
       "<style scoped>\n",
       "    .dataframe tbody tr th:only-of-type {\n",
       "        vertical-align: middle;\n",
       "    }\n",
       "\n",
       "    .dataframe tbody tr th {\n",
       "        vertical-align: top;\n",
       "    }\n",
       "\n",
       "    .dataframe thead th {\n",
       "        text-align: right;\n",
       "    }\n",
       "</style>\n",
       "<table border=\"1\" class=\"dataframe\">\n",
       "  <thead>\n",
       "    <tr style=\"text-align: right;\">\n",
       "      <th></th>\n",
       "      <th>Patient ID</th>\n",
       "      <th>Blood Pressure Before (mmHg)</th>\n",
       "      <th>Blood Pressure After (mmHg)</th>\n",
       "    </tr>\n",
       "  </thead>\n",
       "  <tbody>\n",
       "    <tr>\n",
       "      <th>0</th>\n",
       "      <td>1</td>\n",
       "      <td>130</td>\n",
       "      <td>120</td>\n",
       "    </tr>\n",
       "    <tr>\n",
       "      <th>1</th>\n",
       "      <td>2</td>\n",
       "      <td>142</td>\n",
       "      <td>135</td>\n",
       "    </tr>\n",
       "    <tr>\n",
       "      <th>2</th>\n",
       "      <td>3</td>\n",
       "      <td>120</td>\n",
       "      <td>118</td>\n",
       "    </tr>\n",
       "    <tr>\n",
       "      <th>3</th>\n",
       "      <td>4</td>\n",
       "      <td>135</td>\n",
       "      <td>127</td>\n",
       "    </tr>\n",
       "    <tr>\n",
       "      <th>4</th>\n",
       "      <td>5</td>\n",
       "      <td>148</td>\n",
       "      <td>140</td>\n",
       "    </tr>\n",
       "    <tr>\n",
       "      <th>5</th>\n",
       "      <td>6</td>\n",
       "      <td>122</td>\n",
       "      <td>118</td>\n",
       "    </tr>\n",
       "    <tr>\n",
       "      <th>6</th>\n",
       "      <td>7</td>\n",
       "      <td>137</td>\n",
       "      <td>129</td>\n",
       "    </tr>\n",
       "    <tr>\n",
       "      <th>7</th>\n",
       "      <td>8</td>\n",
       "      <td>130</td>\n",
       "      <td>124</td>\n",
       "    </tr>\n",
       "    <tr>\n",
       "      <th>8</th>\n",
       "      <td>9</td>\n",
       "      <td>142</td>\n",
       "      <td>137</td>\n",
       "    </tr>\n",
       "    <tr>\n",
       "      <th>9</th>\n",
       "      <td>10</td>\n",
       "      <td>128</td>\n",
       "      <td>125</td>\n",
       "    </tr>\n",
       "    <tr>\n",
       "      <th>10</th>\n",
       "      <td>11</td>\n",
       "      <td>135</td>\n",
       "      <td>129</td>\n",
       "    </tr>\n",
       "    <tr>\n",
       "      <th>11</th>\n",
       "      <td>12</td>\n",
       "      <td>140</td>\n",
       "      <td>132</td>\n",
       "    </tr>\n",
       "    <tr>\n",
       "      <th>12</th>\n",
       "      <td>13</td>\n",
       "      <td>132</td>\n",
       "      <td>125</td>\n",
       "    </tr>\n",
       "    <tr>\n",
       "      <th>13</th>\n",
       "      <td>14</td>\n",
       "      <td>145</td>\n",
       "      <td>136</td>\n",
       "    </tr>\n",
       "    <tr>\n",
       "      <th>14</th>\n",
       "      <td>15</td>\n",
       "      <td>124</td>\n",
       "      <td>118</td>\n",
       "    </tr>\n",
       "    <tr>\n",
       "      <th>15</th>\n",
       "      <td>16</td>\n",
       "      <td>128</td>\n",
       "      <td>122</td>\n",
       "    </tr>\n",
       "    <tr>\n",
       "      <th>16</th>\n",
       "      <td>17</td>\n",
       "      <td>136</td>\n",
       "      <td>130</td>\n",
       "    </tr>\n",
       "    <tr>\n",
       "      <th>17</th>\n",
       "      <td>18</td>\n",
       "      <td>143</td>\n",
       "      <td>139</td>\n",
       "    </tr>\n",
       "    <tr>\n",
       "      <th>18</th>\n",
       "      <td>19</td>\n",
       "      <td>127</td>\n",
       "      <td>123</td>\n",
       "    </tr>\n",
       "    <tr>\n",
       "      <th>19</th>\n",
       "      <td>20</td>\n",
       "      <td>139</td>\n",
       "      <td>132</td>\n",
       "    </tr>\n",
       "    <tr>\n",
       "      <th>20</th>\n",
       "      <td>21</td>\n",
       "      <td>135</td>\n",
       "      <td>131</td>\n",
       "    </tr>\n",
       "    <tr>\n",
       "      <th>21</th>\n",
       "      <td>22</td>\n",
       "      <td>131</td>\n",
       "      <td>126</td>\n",
       "    </tr>\n",
       "    <tr>\n",
       "      <th>22</th>\n",
       "      <td>23</td>\n",
       "      <td>127</td>\n",
       "      <td>120</td>\n",
       "    </tr>\n",
       "    <tr>\n",
       "      <th>23</th>\n",
       "      <td>24</td>\n",
       "      <td>130</td>\n",
       "      <td>123</td>\n",
       "    </tr>\n",
       "    <tr>\n",
       "      <th>24</th>\n",
       "      <td>25</td>\n",
       "      <td>142</td>\n",
       "      <td>139</td>\n",
       "    </tr>\n",
       "    <tr>\n",
       "      <th>25</th>\n",
       "      <td>26</td>\n",
       "      <td>128</td>\n",
       "      <td>122</td>\n",
       "    </tr>\n",
       "    <tr>\n",
       "      <th>26</th>\n",
       "      <td>27</td>\n",
       "      <td>136</td>\n",
       "      <td>129</td>\n",
       "    </tr>\n",
       "    <tr>\n",
       "      <th>27</th>\n",
       "      <td>28</td>\n",
       "      <td>140</td>\n",
       "      <td>136</td>\n",
       "    </tr>\n",
       "    <tr>\n",
       "      <th>28</th>\n",
       "      <td>29</td>\n",
       "      <td>132</td>\n",
       "      <td>127</td>\n",
       "    </tr>\n",
       "    <tr>\n",
       "      <th>29</th>\n",
       "      <td>30</td>\n",
       "      <td>145</td>\n",
       "      <td>140</td>\n",
       "    </tr>\n",
       "    <tr>\n",
       "      <th>...</th>\n",
       "      <td>...</td>\n",
       "      <td>...</td>\n",
       "      <td>...</td>\n",
       "    </tr>\n",
       "    <tr>\n",
       "      <th>70</th>\n",
       "      <td>71</td>\n",
       "      <td>127</td>\n",
       "      <td>121</td>\n",
       "    </tr>\n",
       "    <tr>\n",
       "      <th>71</th>\n",
       "      <td>72</td>\n",
       "      <td>130</td>\n",
       "      <td>124</td>\n",
       "    </tr>\n",
       "    <tr>\n",
       "      <th>72</th>\n",
       "      <td>73</td>\n",
       "      <td>142</td>\n",
       "      <td>139</td>\n",
       "    </tr>\n",
       "    <tr>\n",
       "      <th>73</th>\n",
       "      <td>74</td>\n",
       "      <td>128</td>\n",
       "      <td>123</td>\n",
       "    </tr>\n",
       "    <tr>\n",
       "      <th>74</th>\n",
       "      <td>75</td>\n",
       "      <td>136</td>\n",
       "      <td>131</td>\n",
       "    </tr>\n",
       "    <tr>\n",
       "      <th>75</th>\n",
       "      <td>76</td>\n",
       "      <td>140</td>\n",
       "      <td>136</td>\n",
       "    </tr>\n",
       "    <tr>\n",
       "      <th>76</th>\n",
       "      <td>77</td>\n",
       "      <td>132</td>\n",
       "      <td>127</td>\n",
       "    </tr>\n",
       "    <tr>\n",
       "      <th>77</th>\n",
       "      <td>78</td>\n",
       "      <td>145</td>\n",
       "      <td>141</td>\n",
       "    </tr>\n",
       "    <tr>\n",
       "      <th>78</th>\n",
       "      <td>79</td>\n",
       "      <td>124</td>\n",
       "      <td>118</td>\n",
       "    </tr>\n",
       "    <tr>\n",
       "      <th>79</th>\n",
       "      <td>80</td>\n",
       "      <td>128</td>\n",
       "      <td>121</td>\n",
       "    </tr>\n",
       "    <tr>\n",
       "      <th>80</th>\n",
       "      <td>81</td>\n",
       "      <td>136</td>\n",
       "      <td>129</td>\n",
       "    </tr>\n",
       "    <tr>\n",
       "      <th>81</th>\n",
       "      <td>82</td>\n",
       "      <td>143</td>\n",
       "      <td>137</td>\n",
       "    </tr>\n",
       "    <tr>\n",
       "      <th>82</th>\n",
       "      <td>83</td>\n",
       "      <td>127</td>\n",
       "      <td>123</td>\n",
       "    </tr>\n",
       "    <tr>\n",
       "      <th>83</th>\n",
       "      <td>84</td>\n",
       "      <td>139</td>\n",
       "      <td>135</td>\n",
       "    </tr>\n",
       "    <tr>\n",
       "      <th>84</th>\n",
       "      <td>85</td>\n",
       "      <td>135</td>\n",
       "      <td>130</td>\n",
       "    </tr>\n",
       "    <tr>\n",
       "      <th>85</th>\n",
       "      <td>86</td>\n",
       "      <td>131</td>\n",
       "      <td>125</td>\n",
       "    </tr>\n",
       "    <tr>\n",
       "      <th>86</th>\n",
       "      <td>87</td>\n",
       "      <td>127</td>\n",
       "      <td>121</td>\n",
       "    </tr>\n",
       "    <tr>\n",
       "      <th>87</th>\n",
       "      <td>88</td>\n",
       "      <td>130</td>\n",
       "      <td>124</td>\n",
       "    </tr>\n",
       "    <tr>\n",
       "      <th>88</th>\n",
       "      <td>89</td>\n",
       "      <td>128</td>\n",
       "      <td>122</td>\n",
       "    </tr>\n",
       "    <tr>\n",
       "      <th>89</th>\n",
       "      <td>90</td>\n",
       "      <td>136</td>\n",
       "      <td>129</td>\n",
       "    </tr>\n",
       "    <tr>\n",
       "      <th>90</th>\n",
       "      <td>91</td>\n",
       "      <td>140</td>\n",
       "      <td>135</td>\n",
       "    </tr>\n",
       "    <tr>\n",
       "      <th>91</th>\n",
       "      <td>92</td>\n",
       "      <td>132</td>\n",
       "      <td>127</td>\n",
       "    </tr>\n",
       "    <tr>\n",
       "      <th>92</th>\n",
       "      <td>93</td>\n",
       "      <td>145</td>\n",
       "      <td>141</td>\n",
       "    </tr>\n",
       "    <tr>\n",
       "      <th>93</th>\n",
       "      <td>94</td>\n",
       "      <td>124</td>\n",
       "      <td>118</td>\n",
       "    </tr>\n",
       "    <tr>\n",
       "      <th>94</th>\n",
       "      <td>95</td>\n",
       "      <td>128</td>\n",
       "      <td>121</td>\n",
       "    </tr>\n",
       "    <tr>\n",
       "      <th>95</th>\n",
       "      <td>96</td>\n",
       "      <td>136</td>\n",
       "      <td>129</td>\n",
       "    </tr>\n",
       "    <tr>\n",
       "      <th>96</th>\n",
       "      <td>97</td>\n",
       "      <td>143</td>\n",
       "      <td>137</td>\n",
       "    </tr>\n",
       "    <tr>\n",
       "      <th>97</th>\n",
       "      <td>98</td>\n",
       "      <td>127</td>\n",
       "      <td>123</td>\n",
       "    </tr>\n",
       "    <tr>\n",
       "      <th>98</th>\n",
       "      <td>99</td>\n",
       "      <td>139</td>\n",
       "      <td>135</td>\n",
       "    </tr>\n",
       "    <tr>\n",
       "      <th>99</th>\n",
       "      <td>100</td>\n",
       "      <td>135</td>\n",
       "      <td>130</td>\n",
       "    </tr>\n",
       "  </tbody>\n",
       "</table>\n",
       "<p>100 rows × 3 columns</p>\n",
       "</div>"
      ],
      "text/plain": [
       "    Patient ID   Blood Pressure Before (mmHg)   Blood Pressure After (mmHg)\n",
       "0            1                            130                           120\n",
       "1            2                            142                           135\n",
       "2            3                            120                           118\n",
       "3            4                            135                           127\n",
       "4            5                            148                           140\n",
       "5            6                            122                           118\n",
       "6            7                            137                           129\n",
       "7            8                            130                           124\n",
       "8            9                            142                           137\n",
       "9           10                            128                           125\n",
       "10          11                            135                           129\n",
       "11          12                            140                           132\n",
       "12          13                            132                           125\n",
       "13          14                            145                           136\n",
       "14          15                            124                           118\n",
       "15          16                            128                           122\n",
       "16          17                            136                           130\n",
       "17          18                            143                           139\n",
       "18          19                            127                           123\n",
       "19          20                            139                           132\n",
       "20          21                            135                           131\n",
       "21          22                            131                           126\n",
       "22          23                            127                           120\n",
       "23          24                            130                           123\n",
       "24          25                            142                           139\n",
       "25          26                            128                           122\n",
       "26          27                            136                           129\n",
       "27          28                            140                           136\n",
       "28          29                            132                           127\n",
       "29          30                            145                           140\n",
       "..         ...                            ...                           ...\n",
       "70          71                            127                           121\n",
       "71          72                            130                           124\n",
       "72          73                            142                           139\n",
       "73          74                            128                           123\n",
       "74          75                            136                           131\n",
       "75          76                            140                           136\n",
       "76          77                            132                           127\n",
       "77          78                            145                           141\n",
       "78          79                            124                           118\n",
       "79          80                            128                           121\n",
       "80          81                            136                           129\n",
       "81          82                            143                           137\n",
       "82          83                            127                           123\n",
       "83          84                            139                           135\n",
       "84          85                            135                           130\n",
       "85          86                            131                           125\n",
       "86          87                            127                           121\n",
       "87          88                            130                           124\n",
       "88          89                            128                           122\n",
       "89          90                            136                           129\n",
       "90          91                            140                           135\n",
       "91          92                            132                           127\n",
       "92          93                            145                           141\n",
       "93          94                            124                           118\n",
       "94          95                            128                           121\n",
       "95          96                            136                           129\n",
       "96          97                            143                           137\n",
       "97          98                            127                           123\n",
       "98          99                            139                           135\n",
       "99         100                            135                           130\n",
       "\n",
       "[100 rows x 3 columns]"
      ]
     },
     "execution_count": 11,
     "metadata": {},
     "output_type": "execute_result"
    }
   ],
   "source": [
    "df"
   ]
  },
  {
   "cell_type": "code",
   "execution_count": 20,
   "metadata": {},
   "outputs": [
    {
     "data": {
      "text/html": [
       "<div>\n",
       "<style scoped>\n",
       "    .dataframe tbody tr th:only-of-type {\n",
       "        vertical-align: middle;\n",
       "    }\n",
       "\n",
       "    .dataframe tbody tr th {\n",
       "        vertical-align: top;\n",
       "    }\n",
       "\n",
       "    .dataframe thead th {\n",
       "        text-align: right;\n",
       "    }\n",
       "</style>\n",
       "<table border=\"1\" class=\"dataframe\">\n",
       "  <thead>\n",
       "    <tr style=\"text-align: right;\">\n",
       "      <th></th>\n",
       "      <th>Patient ID</th>\n",
       "      <th>Blood Pressure Before (mmHg)</th>\n",
       "      <th>Blood Pressure After (mmHg)</th>\n",
       "    </tr>\n",
       "  </thead>\n",
       "  <tbody>\n",
       "    <tr>\n",
       "      <th>Patient ID</th>\n",
       "      <td>1.000000</td>\n",
       "      <td>-0.000818</td>\n",
       "      <td>0.036698</td>\n",
       "    </tr>\n",
       "    <tr>\n",
       "      <th>Blood Pressure Before (mmHg)</th>\n",
       "      <td>-0.000818</td>\n",
       "      <td>1.000000</td>\n",
       "      <td>0.977949</td>\n",
       "    </tr>\n",
       "    <tr>\n",
       "      <th>Blood Pressure After (mmHg)</th>\n",
       "      <td>0.036698</td>\n",
       "      <td>0.977949</td>\n",
       "      <td>1.000000</td>\n",
       "    </tr>\n",
       "  </tbody>\n",
       "</table>\n",
       "</div>"
      ],
      "text/plain": [
       "                               Patient ID   Blood Pressure Before (mmHg)  \\\n",
       "Patient ID                       1.000000                      -0.000818   \n",
       " Blood Pressure Before (mmHg)   -0.000818                       1.000000   \n",
       " Blood Pressure After (mmHg)     0.036698                       0.977949   \n",
       "\n",
       "                                Blood Pressure After (mmHg)  \n",
       "Patient ID                                         0.036698  \n",
       " Blood Pressure Before (mmHg)                      0.977949  \n",
       " Blood Pressure After (mmHg)                       1.000000  "
      ]
     },
     "execution_count": 20,
     "metadata": {},
     "output_type": "execute_result"
    }
   ],
   "source": [
    "df.corr()"
   ]
  },
  {
   "cell_type": "code",
   "execution_count": 23,
   "metadata": {},
   "outputs": [
    {
     "data": {
      "text/plain": [
       "Index(['Patient ID', ' Blood Pressure Before (mmHg)',\n",
       "       ' Blood Pressure After (mmHg)'],\n",
       "      dtype='object')"
      ]
     },
     "execution_count": 23,
     "metadata": {},
     "output_type": "execute_result"
    }
   ],
   "source": [
    "df.columns"
   ]
  },
  {
   "cell_type": "code",
   "execution_count": 25,
   "metadata": {},
   "outputs": [
    {
     "data": {
      "text/plain": [
       "133.91"
      ]
     },
     "execution_count": 25,
     "metadata": {},
     "output_type": "execute_result"
    }
   ],
   "source": [
    "df[\" Blood Pressure Before (mmHg)\"].mean()"
   ]
  },
  {
   "cell_type": "code",
   "execution_count": 27,
   "metadata": {},
   "outputs": [
    {
     "data": {
      "text/plain": [
       "128.36"
      ]
     },
     "execution_count": 27,
     "metadata": {},
     "output_type": "execute_result"
    }
   ],
   "source": [
    "df[' Blood Pressure After (mmHg)'].mean()"
   ]
  },
  {
   "cell_type": "code",
   "execution_count": 29,
   "metadata": {},
   "outputs": [],
   "source": [
    "mean1 = df[\" Blood Pressure Before (mmHg)\"].mean()"
   ]
  },
  {
   "cell_type": "code",
   "execution_count": 30,
   "metadata": {},
   "outputs": [],
   "source": [
    "mean2 = df[\" Blood Pressure After (mmHg)\"].mean()"
   ]
  },
  {
   "cell_type": "code",
   "execution_count": 32,
   "metadata": {},
   "outputs": [],
   "source": [
    "std1 = snp.std(df[\" Blood Pressure Before (mmHg)\"])"
   ]
  },
  {
   "cell_type": "code",
   "execution_count": 33,
   "metadata": {},
   "outputs": [],
   "source": [
    "std2 = snp.std(df[\" Blood Pressure After (mmHg)\"])"
   ]
  },
  {
   "cell_type": "code",
   "execution_count": 35,
   "metadata": {},
   "outputs": [],
   "source": [
    "std_error1 = std1 / snp.sqrt(len(df[' Blood Pressure Before (mmHg)']))"
   ]
  },
  {
   "cell_type": "code",
   "execution_count": 36,
   "metadata": {},
   "outputs": [],
   "source": [
    "std_error2 = std2 / snp.sqrt(len(df[' Blood Pressure After (mmHg)']))"
   ]
  },
  {
   "cell_type": "code",
   "execution_count": 37,
   "metadata": {},
   "outputs": [],
   "source": [
    "margin_of_error1 = 1.96 * std_error1"
   ]
  },
  {
   "cell_type": "code",
   "execution_count": 38,
   "metadata": {},
   "outputs": [],
   "source": [
    "margin_of_error2 = 1.96 * std_error2"
   ]
  },
  {
   "cell_type": "code",
   "execution_count": 39,
   "metadata": {},
   "outputs": [],
   "source": [
    "confidence_interval1 = (mean1 - margin_of_error1, mean1 + margin_of_error1)"
   ]
  },
  {
   "cell_type": "code",
   "execution_count": 40,
   "metadata": {},
   "outputs": [],
   "source": [
    "confidence_interval2 = (mean2 - margin_of_error2, mean2 + margin_of_error2)"
   ]
  },
  {
   "cell_type": "code",
   "execution_count": 42,
   "metadata": {},
   "outputs": [
    {
     "data": {
      "image/png": "[encoded data removed]",
      "text/plain": [
       "<Figure size 432x288 with 1 Axes>"
      ]
     },
     "metadata": {},
     "output_type": "display_data"
    }
   ],
   "source": [
    "splt.errorbar(0, mean1, yerr=margin_of_error1, fmt='o', capsize=5, label='Mean')\n",
    "splt.axhline(y=mean1, color='r', linestyle='--', label='Mean')\n",
    "splt.legend()\n",
    "splt.title('Mean and Confidence Interval')\n",
    "splt.ylabel('Value')\n",
    "splt.xticks([])\n",
    "splt.show()\n"
   ]
  },
  {
   "cell_type": "code",
   "execution_count": 44,
   "metadata": {},
   "outputs": [
    {
     "data": {
      "image/png": "[encoded data removed]",
      "text/plain": [
       "<Figure size 432x288 with 1 Axes>"
      ]
     },
     "metadata": {},
     "output_type": "display_data"
    }
   ],
   "source": [
    "splt.errorbar(0, mean2, yerr=margin_of_error2, fmt='o', capsize=5, label='Mean')\n",
    "splt.axhline(y=mean2, color='r', linestyle='--', label='Mean')\n",
    "splt.legend()\n",
    "splt.title('Mean and Confidence Interval')\n",
    "splt.ylabel('Value')\n",
    "splt.xticks([])\n",
    "splt.show()\n"
   ]
  },
  {
   "cell_type": "markdown",
   "metadata": {},
   "source": [
    "#### Q-6. A pharmaceutical company is developing a drug that is supposed to reduce blood pressure. They conduct a clinical trial with 100 patients and record their blood pressure before and after taking the drug. The company wants to know if the change in blood pressure follows a normal distribution.\n",
    "#### https://drive.google.com/file/d/1mCjtYHiX--mMUjicuaP2gH3k-SnFxt8Y/view?usp=share_"
   ]
  },
  {
   "cell_type": "code",
   "execution_count": 46,
   "metadata": {},
   "outputs": [
    {
     "name": "stdout",
     "output_type": "stream",
     "text": [
      "0.957322895526886 0.0026030323933809996\n",
      "not normal\n"
     ]
    }
   ],
   "source": [
    "from scipy.stats import shapiro\n",
    "s1,p1 = shapiro(df[' Blood Pressure Before (mmHg)'])\n",
    "print(s1,p1)\n",
    "if p1>0.05:\n",
    "    print(\"normal\")\n",
    "else:\n",
    "    print(\"not normal\")"
   ]
  },
  {
   "cell_type": "code",
   "execution_count": 47,
   "metadata": {},
   "outputs": [
    {
     "name": "stdout",
     "output_type": "stream",
     "text": [
      "0.940056562423706 0.0001943297975230962\n",
      "not normal\n"
     ]
    }
   ],
   "source": [
    "from scipy.stats import shapiro\n",
    "s2,p2 = shapiro(df[' Blood Pressure After (mmHg)'])\n",
    "print(s2,p2)\n",
    "if p2>0.05:\n",
    "    print(\"normal\")\n",
    "else:\n",
    "    print(\"not normal\")"
   ]
  },
  {
   "cell_type": "markdown",
   "metadata": {},
   "source": [
    "#### Q-8. The anxiety levels of 10 participants were measured before and after a new therapy. The scores are not normally distributed. Use the Wilcoxon signed-rank test to test whether the therapy had a significant effect on anxiety levels. The data is given below: Participant Before therapy After therapy Difference"
   ]
  },
  {
   "cell_type": "code",
   "execution_count": 52,
   "metadata": {},
   "outputs": [
    {
     "name": "stdout",
     "output_type": "stream",
     "text": [
      "Wilcoxon signed-rank test:\n",
      "Statistic: 0.0\n",
      "P-value: 0.0043760114523359135\n",
      "accepted that the therapy had a significant change\n"
     ]
    }
   ],
   "source": [
    "from scipy.stats import wilcoxon\n",
    "\n",
    "before_therapy = [10,8,12,15,6,9,11,7,14,10]\n",
    "after_therapy = [7,6,10,12,5,8,9,6,12,8]\n",
    "# Compute the differences\n",
    "differences = snp.array(after_therapy) - snp.array(before_therapy)\n",
    "\n",
    "# Perform the Wilcoxon signed-rank test\n",
    "statistic, p_value = wilcoxon(differences)\n",
    "\n",
    "# Print the results\n",
    "print(\"Wilcoxon signed-rank test:\")\n",
    "print(f\"Statistic: {statistic}\")\n",
    "print(f\"P-value: {p_value}\")\n",
    "if p_value<0.05:\n",
    "    print(\"accepted that the therapy had a significant change\")\n",
    "else:\n",
    "    print(\"no change\")\n"
   ]
  },
  {
   "cell_type": "markdown",
   "metadata": {},
   "source": [
    "#### Q-11. Given the data of a feature contributing to different classes\n",
    "#### https://drive.google.com/file/d/1mCjtYHiX--mMUjicuaP2gH3k-SnFxt8Y/view?usp=share_\n",
    "#### a. Check whether the distribution of all the classes are the same or not.\n",
    "#### b. Check for the equality of variance/\n",
    "#### c. Which amount LDA and QDA would perform better on this data for classification and why.\n",
    "#### d. Check the equality of mean for between all the classes."
   ]
  },
  {
   "cell_type": "code",
   "execution_count": 55,
   "metadata": {},
   "outputs": [
    {
     "name": "stdout",
     "output_type": "stream",
     "text": [
      "Chi-square test statistic: 0.8748586918399021\n",
      "p-value: 1.0\n",
      "Degrees of freedom: 99\n",
      "Expected frequencies:\n",
      " [[127.64517482 122.35482518]\n",
      " [141.4308537  135.5691463 ]\n",
      " [121.51820643 116.48179357]\n",
      " [133.77214321 128.22785679]\n",
      " [147.04724139 140.95275861]\n",
      " [122.53936783 117.46063217]\n",
      " [135.81446601 130.18553399]\n",
      " [129.68749762 124.31250238]\n",
      " [142.4520151  136.5479849 ]\n",
      " [129.17691692 123.82308308]\n",
      " [134.79330461 129.20669539]\n",
      " [138.8779502  133.1220498 ]\n",
      " [131.21923971 125.78076029]\n",
      " [143.4731765  137.5268235 ]\n",
      " [123.56052923 118.43947077]\n",
      " [127.64517482 122.35482518]\n",
      " [135.81446601 130.18553399]\n",
      " [143.9837572  138.0162428 ]\n",
      " [127.64517482 122.35482518]\n",
      " [138.3673695  132.6326305 ]\n",
      " [135.81446601 130.18553399]\n",
      " [131.21923971 125.78076029]\n",
      " [126.11343272 120.88656728]\n",
      " [129.17691692 123.82308308]\n",
      " [143.4731765  137.5268235 ]\n",
      " [127.64517482 122.35482518]\n",
      " [135.30388531 129.69611469]\n",
      " [140.920273   135.079727  ]\n",
      " [132.24040111 126.75959889]\n",
      " [145.51549929 139.48450071]\n",
      " [124.07110992 118.92889008]\n",
      " [127.13459412 121.86540588]\n",
      " [135.30388531 129.69611469]\n",
      " [142.9625958  137.0374042 ]\n",
      " [127.13459412 121.86540588]\n",
      " [139.8991116  134.1008884 ]\n",
      " [134.79330461 129.20669539]\n",
      " [130.19807832 124.80192168]\n",
      " [125.60285202 120.39714798]\n",
      " [129.68749762 124.31250238]\n",
      " [143.4731765  137.5268235 ]\n",
      " [128.15575552 122.84424448]\n",
      " [136.32504671 130.67495329]\n",
      " [140.4096923  134.5903077 ]\n",
      " [132.24040111 126.75959889]\n",
      " [146.02607999 139.97392001]\n",
      " [123.56052923 118.43947077]\n",
      " [127.13459412 121.86540588]\n",
      " [135.30388531 129.69611469]\n",
      " [142.9625958  137.0374042 ]\n",
      " [127.64517482 122.35482518]\n",
      " [139.8991116  134.1008884 ]\n",
      " [135.30388531 129.69611469]\n",
      " [130.70865902 125.29134098]\n",
      " [126.62401342 121.37598658]\n",
      " [129.68749762 124.31250238]\n",
      " [143.4731765  137.5268235 ]\n",
      " [128.15575552 122.84424448]\n",
      " [136.32504671 130.67495329]\n",
      " [140.920273   135.079727  ]\n",
      " [132.24040111 126.75959889]\n",
      " [146.02607999 139.97392001]\n",
      " [123.56052923 118.43947077]\n",
      " [127.13459412 121.86540588]\n",
      " [135.30388531 129.69611469]\n",
      " [142.9625958  137.0374042 ]\n",
      " [127.64517482 122.35482518]\n",
      " [139.8991116  134.1008884 ]\n",
      " [135.30388531 129.69611469]\n",
      " [130.19807832 124.80192168]\n",
      " [126.62401342 121.37598658]\n",
      " [129.68749762 124.31250238]\n",
      " [143.4731765  137.5268235 ]\n",
      " [128.15575552 122.84424448]\n",
      " [136.32504671 130.67495329]\n",
      " [140.920273   135.079727  ]\n",
      " [132.24040111 126.75959889]\n",
      " [146.02607999 139.97392001]\n",
      " [123.56052923 118.43947077]\n",
      " [127.13459412 121.86540588]\n",
      " [135.30388531 129.69611469]\n",
      " [142.9625958  137.0374042 ]\n",
      " [127.64517482 122.35482518]\n",
      " [139.8991116  134.1008884 ]\n",
      " [135.30388531 129.69611469]\n",
      " [130.70865902 125.29134098]\n",
      " [126.62401342 121.37598658]\n",
      " [129.68749762 124.31250238]\n",
      " [127.64517482 122.35482518]\n",
      " [135.30388531 129.69611469]\n",
      " [140.4096923  134.5903077 ]\n",
      " [132.24040111 126.75959889]\n",
      " [146.02607999 139.97392001]\n",
      " [123.56052923 118.43947077]\n",
      " [127.13459412 121.86540588]\n",
      " [135.30388531 129.69611469]\n",
      " [142.9625958  137.0374042 ]\n",
      " [127.64517482 122.35482518]\n",
      " [139.8991116  134.1008884 ]\n",
      " [135.30388531 129.69611469]]\n",
      "distribution of the classes is same.\n"
     ]
    }
   ],
   "source": [
    "from scipy.stats import chi2_contingency\n",
    "df = df.drop('Patient ID',axis=1)\n",
    "# Perform the chi-square test of independence\n",
    "chi2, p, dof, expected = chi2_contingency(df)\n",
    "\n",
    "# Print the chi-square test statistic, p-value, degrees of freedom, and expected frequencies\n",
    "print(\"Chi-square test statistic:\", chi2)\n",
    "print(\"p-value:\", p)\n",
    "print(\"Degrees of freedom:\", dof)\n",
    "print(\"Expected frequencies:\\n\", expected)\n",
    "if p<0.05:\n",
    "    print(\"distribution of the classes is not the same.\")\n",
    "else:\n",
    "    print(\"distribution of the classes is same.\")"
   ]
  },
  {
   "cell_type": "code",
   "execution_count": 57,
   "metadata": {},
   "outputs": [
    {
     "name": "stdout",
     "output_type": "stream",
     "text": [
      "Levene's test statistic: 0.18038002140150966\n",
      "p-value: 0.6715080090945376\n",
      "the variances are same\n"
     ]
    }
   ],
   "source": [
    "import scipy.stats as stats\n",
    "\n",
    "# Example data for two groups\n",
    "\n",
    "\n",
    "# Perform Levene's test\n",
    "statistic, p_value = stats.levene(df[' Blood Pressure Before (mmHg)'], df[' Blood Pressure After (mmHg)'])\n",
    "\n",
    "# Print the results\n",
    "print(\"Levene's test statistic:\", statistic)\n",
    "print(\"p-value:\", p_value)\n",
    "if p_value<0.05:\n",
    "    print(\"the variances are significantly different\")\n",
    "else:\n",
    "    print(\"the variances are same\")"
   ]
  },
  {
   "cell_type": "code",
   "execution_count": 59,
   "metadata": {},
   "outputs": [
    {
     "name": "stdout",
     "output_type": "stream",
     "text": [
      "One-way ANOVA statistic: 33.85555270599285\n",
      "p-value: 2.3565868442707578e-08\n",
      "at least one pair of means is significantly different\n"
     ]
    }
   ],
   "source": [
    "import scipy.stats as stats\n",
    "\n",
    "\n",
    "# Perform one-way ANOVA\n",
    "statistic, p_value = stats.f_oneway(df[' Blood Pressure Before (mmHg)'],df[' Blood Pressure After (mmHg)'])\n",
    "\n",
    "# Print the results\n",
    "print(\"One-way ANOVA statistic:\", statistic)\n",
    "print(\"p-value:\", p_value)\n",
    "if p_value<0.05:\n",
    "    print(\"at least one pair of means is significantly different\")\n",
    "else:\n",
    "    print(\"no change\")"
   ]
  },
  {
   "cell_type": "code",
   "execution_count": null,
   "metadata": {},
   "outputs": [],
   "source": []
  }
 ],
 "metadata": {
  "kernelspec": {
   "display_name": "Python 3",
   "language": "python",
   "name": "python3"
  },
  "language_info": {
   "codemirror_mode": {
    "name": "ipython",
    "version": 3
   },
   "file_extension": ".py",
   "mimetype": "text/x-python",
   "name": "python",
   "nbconvert_exporter": "python",
   "pygments_lexer": "ipython3",
   "version": "3.6.5"
  }
 },
 "nbformat": 4,
 "nbformat_minor": 2
}

{
  "nbformat": 4,
  "nbformat_minor": 0,
  "metadata": {
    "colab": {
      "provenance": []
    },
    "kernelspec": {
      "name": "python3",
      "display_name": "Python 3"
    },
    "language_info": {
      "name": "python"
    }
  },
  "cells": [
    {
      "cell_type": "code",
      "execution_count": null,
      "metadata": {
        "id": "abtHNVqg1wVO"
      },
      "outputs": [],
      "source": [
        "import pandas as pd\n",
        "import seaborn as sns\n",
        "import numpy as np\n",
        "import matplotlib.pyplot as plt\n"
      ]
    },
    {
      "cell_type": "code",
      "source": [
        "from tensorflow.keras.datasets import mnist"
      ],
      "metadata": {
        "id": "P0UfNtrR16dI"
      },
      "execution_count": null,
      "outputs": []
    },
    {
      "cell_type": "code",
      "source": [
        "(x_train,y_train) , (x_test,y_test) = mnist.load_data()"
      ],
      "metadata": {
        "colab": {
          "base_uri": "https://localhost:8080/"
        },
        "id": "DPYYRBGQ2A0h",
        "outputId": "cac929b2-28f0-45e6-88f2-cd67a347d45f"
      },
      "execution_count": null,
      "outputs": [
        {
          "output_type": "stream",
          "name": "stdout",
          "text": [
            "Downloading data from https://storage.googleapis.com/tensorflow/tf-keras-datasets/mnist.npz\n",
            "11490434/11490434 [==============================] - 0s 0us/step\n"
          ]
        }
      ]
    },
    {
      "cell_type": "code",
      "source": [
        "print(x_train.shape)\n",
        "print(x_test.shape)"
      ],
      "metadata": {
        "colab": {
          "base_uri": "https://localhost:8080/"
        },
        "id": "rs3VOWM72Ssk",
        "outputId": "dafef160-0ee1-4949-92b2-2bbfaa85a1f9"
      },
      "execution_count": null,
      "outputs": [
        {
          "output_type": "stream",
          "name": "stdout",
          "text": [
            "(60000, 28, 28)\n",
            "(10000, 28, 28)\n"
          ]
        }
      ]
    },
    {
      "cell_type": "code",
      "source": [
        "x_train=x_train.astype('float')/255\n",
        "x_test=x_test.astype('float')/255"
      ],
      "metadata": {
        "id": "mE80KrIT2aI7"
      },
      "execution_count": null,
      "outputs": []
    },
    {
      "cell_type": "code",
      "source": [
        "from keras.utils import np_utils\n",
        "y_train=np_utils.to_categorical(y_train,10)\n",
        "y_test=np_utils.to_categorical(y_test,10)"
      ],
      "metadata": {
        "id": "g39zQbtw2eSA"
      },
      "execution_count": null,
      "outputs": []
    },
    {
      "cell_type": "code",
      "source": [
        "y_train[0]"
      ],
      "metadata": {
        "colab": {
          "base_uri": "https://localhost:8080/"
        },
        "id": "rN8Nj9Jy2hAa",
        "outputId": "1da2f36d-93cf-406d-fa5d-fa7dae381385"
      },
      "execution_count": null,
      "outputs": [
        {
          "output_type": "execute_result",
          "data": {
            "text/plain": [
              "array([0., 0., 0., 0., 0., 1., 0., 0., 0., 0.], dtype=float32)"
            ]
          },
          "metadata": {},
          "execution_count": 8
        }
      ]
    },
    {
      "cell_type": "code",
      "source": [
        "from tensorflow.keras.models import Sequential\n",
        "from tensorflow.keras.layers import Conv2D,Flatten,Dense,MaxPooling2D\n",
        "\n",
        "model1=Sequential()\n",
        "model1.add(Conv2D(16,kernel_size=(3,3),padding=\"same\",activation=\"relu\",input_shape=(28,28,1)))\n",
        "model1.add(MaxPooling2D(pool_size=(2,2)))\n",
        "model1.add(Conv2D(32,kernel_size=(3,3),padding=\"same\",activation=\"relu\"))\n",
        "model1.add(MaxPooling2D(pool_size=(2,2)))\n",
        "model1.add(Flatten())\n",
        "model1.add(Dense(128,activation=\"relu\"))\n",
        "model1.add(Dense(10,activation=\"softmax\"))"
      ],
      "metadata": {
        "id": "vgUvlGmb2j4Q"
      },
      "execution_count": null,
      "outputs": []
    },
    {
      "cell_type": "code",
      "source": [
        "model1.summary()"
      ],
      "metadata": {
        "colab": {
          "base_uri": "https://localhost:8080/"
        },
        "id": "ke_nghUn2__c",
        "outputId": "5ab478b6-f68f-40be-b240-4ce81686037a"
      },
      "execution_count": null,
      "outputs": [
        {
          "output_type": "stream",
          "name": "stdout",
          "text": [
            "Model: \"sequential_4\"\n",
            "_________________________________________________________________\n",
            " Layer (type)                Output Shape              Param #   \n",
            "=================================================================\n",
            " conv2d_6 (Conv2D)           (None, 28, 28, 16)        160       \n",
            "                                                                 \n",
            " max_pooling2d_6 (MaxPooling  (None, 14, 14, 16)       0         \n",
            " 2D)                                                             \n",
            "                                                                 \n",
            " conv2d_7 (Conv2D)           (None, 14, 14, 32)        4640      \n",
            "                                                                 \n",
            " max_pooling2d_7 (MaxPooling  (None, 7, 7, 32)         0         \n",
            " 2D)                                                             \n",
            "                                                                 \n",
            " flatten_4 (Flatten)         (None, 1568)              0         \n",
            "                                                                 \n",
            " dense_8 (Dense)             (None, 128)               200832    \n",
            "                                                                 \n",
            " dense_9 (Dense)             (None, 10)                1290      \n",
            "                                                                 \n",
            "=================================================================\n",
            "Total params: 206,922\n",
            "Trainable params: 206,922\n",
            "Non-trainable params: 0\n",
            "_________________________________________________________________\n"
          ]
        }
      ]
    },
    {
      "cell_type": "code",
      "source": [
        "x_train = x_train.reshape(x_train.shape[0], 28, 28, 1)\n",
        "x_test = x_test.reshape(x_test.shape[0], 28, 28, 1)"
      ],
      "metadata": {
        "id": "AnJHwCBI3uW7"
      },
      "execution_count": null,
      "outputs": []
    },
    {
      "cell_type": "code",
      "source": [
        "model1.compile(loss='categorical_crossentropy', optimizer='rmsprop', \n",
        "              metrics=['accuracy'])"
      ],
      "metadata": {
        "id": "5k1h8IMu3Cwo"
      },
      "execution_count": null,
      "outputs": []
    },
    {
      "cell_type": "code",
      "source": [
        "model1.fit(x_train,y_train,batch_size=64,epochs=10)"
      ],
      "metadata": {
        "colab": {
          "base_uri": "https://localhost:8080/"
        },
        "id": "69ZzDaXt3xOt",
        "outputId": "c17309bc-35fd-4b50-dd99-6bb39bb76325"
      },
      "execution_count": null,
      "outputs": [
        {
          "output_type": "stream",
          "name": "stdout",
          "text": [
            "Epoch 1/10\n",
            "938/938 [==============================] - 41s 42ms/step - loss: 0.1725 - accuracy: 0.9474\n",
            "Epoch 2/10\n",
            "938/938 [==============================] - 38s 41ms/step - loss: 0.0511 - accuracy: 0.9842\n",
            "Epoch 3/10\n",
            "938/938 [==============================] - 39s 42ms/step - loss: 0.0347 - accuracy: 0.9890\n",
            "Epoch 4/10\n",
            "938/938 [==============================] - 38s 40ms/step - loss: 0.0258 - accuracy: 0.9918\n",
            "Epoch 5/10\n",
            "938/938 [==============================] - 38s 41ms/step - loss: 0.0206 - accuracy: 0.9935\n",
            "Epoch 6/10\n",
            "938/938 [==============================] - 39s 41ms/step - loss: 0.0167 - accuracy: 0.9949\n",
            "Epoch 7/10\n",
            "938/938 [==============================] - 39s 42ms/step - loss: 0.0129 - accuracy: 0.9961\n",
            "Epoch 8/10\n",
            "938/938 [==============================] - 39s 41ms/step - loss: 0.0107 - accuracy: 0.9966\n",
            "Epoch 9/10\n",
            "938/938 [==============================] - 40s 42ms/step - loss: 0.0088 - accuracy: 0.9972\n",
            "Epoch 10/10\n",
            "938/938 [==============================] - 38s 41ms/step - loss: 0.0066 - accuracy: 0.9980\n"
          ]
        },
        {
          "output_type": "execute_result",
          "data": {
            "text/plain": [
              "<keras.callbacks.History at 0x7f34ea822590>"
            ]
          },
          "metadata": {},
          "execution_count": 21
        }
      ]
    },
    {
      "cell_type": "code",
      "source": [
        "score = model1.evaluate(x_test, y_test, verbose=0)\n",
        "accuracy = 100*score[1]\n",
        "print(f\"accuracy of the model is {accuracy}\")"
      ],
      "metadata": {
        "colab": {
          "base_uri": "https://localhost:8080/"
        },
        "id": "WXoPdmEn30dP",
        "outputId": "b335e388-7d19-4811-a1b3-e1bfd75bd5ba"
      },
      "execution_count": null,
      "outputs": [
        {
          "output_type": "stream",
          "name": "stdout",
          "text": [
            "accuracy of the model is 99.16999936103821\n"
          ]
        }
      ]
    },
    {
      "cell_type": "code",
      "source": [],
      "metadata": {
        "id": "Bw0rh-vc5V04"
      },
      "execution_count": null,
      "outputs": []
    }
  ]
}
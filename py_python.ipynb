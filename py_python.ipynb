{
 "cells": [
  {
   "cell_type": "markdown",
   "metadata": {},
   "source": [
    "#### Question 1: -\n",
    "#### Write a program that takes a string as input, and counts the frequency of each word in the string, there might be repeated characters in the string. Your task is to find the highest frequency and returns the length of the highest-frequency word."
   ]
  },
  {
   "cell_type": "code",
   "execution_count": 2,
   "metadata": {},
   "outputs": [
    {
     "name": "stdout",
     "output_type": "stream",
     "text": [
      "enter the sentence : Write a program that takes a string as input, and counts the frequency of each word in the string,\n",
      "3\n"
     ]
    }
   ],
   "source": [
    "def highest_frequency_len(sen):\n",
    "    lst = sen.split()\n",
    "    s = list(set(lst))\n",
    "    c = []\n",
    "    for i in s:      \n",
    "        c.append(lst.count(i))\n",
    "    g = c.index(max(c))\n",
    "    d = len(s[g])\n",
    "    return d\n",
    "sen = input(\"enter the sentence : \")\n",
    "print(highest_frequency_len(sen))"
   ]
  },
  {
   "cell_type": "markdown",
   "metadata": {},
   "source": [
    "#### Question 2: -\n",
    "#### Consider a string to be valid if all characters of the string appear the same number of times. It is also valid if he can remove just one character at the index in the string, and the remaining characters will occur the same number of times. Given a string, determine if it is valid. If so, return YES , otherwise return NO ."
   ]
  },
  {
   "cell_type": "code",
   "execution_count": 5,
   "metadata": {},
   "outputs": [
    {
     "name": "stdout",
     "output_type": "stream",
     "text": [
      "YES\n",
      "NO\n",
      "NO\n"
     ]
    }
   ],
   "source": [
    "def is_valid_string(s):\n",
    "    char_count = {}\n",
    "    for char in s:\n",
    "        char_count[char] = char_count.get(char, 0) + 1\n",
    "    \n",
    "    counts = list(char_count.values())\n",
    "    max_count = max(counts)\n",
    "    min_count = min(counts)\n",
    "    \n",
    "    if max_count == min_count:\n",
    "        return \"YES\"\n",
    "    else:\n",
    "        return \"NO\"\n",
    "    \n",
    "string1 = \"abc\"\n",
    "print(is_valid_string(string1)) \n",
    "string2 = \"aabbc\"\n",
    "print(is_valid_string(string2)) \n",
    "string3 = \"aabbcd\"\n",
    "print(is_valid_string(string3)) "
   ]
  },
  {
   "cell_type": "markdown",
   "metadata": {},
   "source": [
    "#### Question 3: -\n",
    "#### Write a program, which would download the data from the provided link, and then read the data and convert that into properly structured data and return it in Excel format. Note - Write comments wherever necessary explaining the code written."
   ]
  },
  {
   "cell_type": "code",
   "execution_count": 89,
   "metadata": {},
   "outputs": [],
   "source": [
    "import requests\n",
    "import pandas as pd\n",
    "import json\n",
    "from openpyxl import Workbook\n",
    "from pandas import ExcelWriter\n",
    "\n",
    "#the function which will down load the data\n",
    "def download_data(url):\n",
    "    response = requests.get(url)\n",
    "    if response.status_code == 200:\n",
    "        return response.text\n",
    "    else:\n",
    "        raise Exception(\"Failed to download data from the provided link.\")\n",
    "\n",
    "def process_data(data):\n",
    "    formatted_data = []\n",
    "    for pokemon in data['pokemon']:\n",
    "        formatted_pokemon ={\n",
    "            'id':pokemon['id'],\n",
    "            'weight':pokemon['weight'],\n",
    "            'candy':len(list(pokemon['candy'])),\n",
    "            'egg':pokemon['egg'],\n",
    "            'spawn_chance':float(pokemon['spawn_chance']),\n",
    "            'avg_spawns':float(pokemon['avg_spawns']),\n",
    "            'spawn_time':pokemon['spawn_time'],\n",
    "            'weakness' :len(pokemon[\"weaknesses\"]),\n",
    "            'multipliers' :len(pokemon[\"multipliers\"]) if pokemon['multipliers'] else 0,\n",
    "            'evolutions' :len(pokemon.get(\"next_evolution\", []))\n",
    "        \n",
    "        }\n",
    "        formatted_data.append(formatted_pokemon)\n",
    "    \n",
    "    return formatted_data\n",
    "\n",
    "def convert_to_excel(data, output_file):\n",
    "    df = pd.DataFrame(data)\n",
    "    writer = ExcelWriter(output_file)\n",
    "    df.to_excel(writer, encoding='utf8', index=False)\n",
    "    writer.save()\n",
    "# Example usage\n",
    "url = \"https://raw.githubusercontent.com/Biuni/PokemonGO-Pokedex/master/pokedex.json\"  # Replace with the actual URL of the data file\n",
    "output_file = \"outputnew.xlsx\"  # Specify the desired output file name\n",
    "\n",
    "# Download the data\n",
    "data = download_data(url)\n",
    "\n",
    "data = json.loads(data)\n",
    "\n",
    "# Process the data\n",
    "processed_data = process_data(data)\n",
    "\n",
    "# Convert and save to Excel\n",
    "convert_to_excel(processed_data, output_file)"
   ]
  },
  {
   "cell_type": "code",
   "execution_count": 21,
   "metadata": {},
   "outputs": [
    {
     "name": "stdout",
     "output_type": "stream",
     "text": [
      "Requirement already satisfied: openpyxl in c:\\users\\k.vidya\\anaconda3\\lib\\site-packages (2.5.3)\n",
      "Requirement already satisfied: jdcal in c:\\users\\k.vidya\\anaconda3\\lib\\site-packages (from openpyxl) (1.4)\n",
      "Requirement already satisfied: et_xmlfile in c:\\users\\k.vidya\\anaconda3\\lib\\site-packages (from openpyxl) (1.0.1)\n"
     ]
    }
   ],
   "source": [
    "!pip install openpyxl"
   ]
  },
  {
   "cell_type": "markdown",
   "metadata": {},
   "source": [
    "#### Question 4 -\n",
    "#### Write a program to download the data from the link given below and then read the data and convert the into the proper structure and return it as a CSV file.\n",
    "#### Link - https://data.nasa.gov/resource/y77d-th95.json\n",
    "#### Note - Write code comments wherever needed for code understanding."
   ]
  },
  {
   "cell_type": "code",
   "execution_count": 60,
   "metadata": {},
   "outputs": [],
   "source": [
    "import requests\n",
    "import pandas as pd\n",
    "import json\n",
    "from openpyxl import Workbook\n",
    "from pandas import ExcelWriter\n",
    "\n",
    "\n",
    "#the function which will down load the data\n",
    "def download_data(url):\n",
    "    response = requests.get(url)\n",
    "    if response.status_code == 200:\n",
    "        return response.text\n",
    "    else:\n",
    "        raise Exception(\"Failed to download data from the provided link.\")\n",
    "\n",
    "\n",
    "def convert_to_csv(data, output_file):\n",
    "    df = pd.DataFrame(data)\n",
    "    df.to_csv(output_file,index=False)\n",
    "    \n",
    "# Example usage\n",
    "url = \"https://data.nasa.gov/resource/y77d-th95.json\"  # Replace with the actual URL of the data file\n",
    "output_file = \"output3.csv\"  # Specify the desired output file name\n",
    "\n",
    "# Download the data\n",
    "data = download_data(url)\n",
    "\n",
    "data = json.loads(data)\n",
    "\n",
    "# Process the data\n",
    "# processed_data = process_data(data)\n",
    "\n",
    "# Convert and save to Excel\n",
    "convert_to_csv(data, output_file)"
   ]
  },
  {
   "cell_type": "code",
   "execution_count": 62,
   "metadata": {},
   "outputs": [],
   "source": [
    "dt = pd.read_csv('output3.csv')"
   ]
  },
  {
   "cell_type": "code",
   "execution_count": 63,
   "metadata": {},
   "outputs": [
    {
     "data": {
      "text/html": [
       "<div>\n",
       "<style scoped>\n",
       "    .dataframe tbody tr th:only-of-type {\n",
       "        vertical-align: middle;\n",
       "    }\n",
       "\n",
       "    .dataframe tbody tr th {\n",
       "        vertical-align: top;\n",
       "    }\n",
       "\n",
       "    .dataframe thead th {\n",
       "        text-align: right;\n",
       "    }\n",
       "</style>\n",
       "<table border=\"1\" class=\"dataframe\">\n",
       "  <thead>\n",
       "    <tr style=\"text-align: right;\">\n",
       "      <th></th>\n",
       "      <th>:@computed_region_cbhk_fwbd</th>\n",
       "      <th>:@computed_region_nnqa_25f4</th>\n",
       "      <th>fall</th>\n",
       "      <th>geolocation</th>\n",
       "      <th>id</th>\n",
       "      <th>mass</th>\n",
       "      <th>name</th>\n",
       "      <th>nametype</th>\n",
       "      <th>recclass</th>\n",
       "      <th>reclat</th>\n",
       "      <th>reclong</th>\n",
       "      <th>year</th>\n",
       "    </tr>\n",
       "  </thead>\n",
       "  <tbody>\n",
       "    <tr>\n",
       "      <th>0</th>\n",
       "      <td>NaN</td>\n",
       "      <td>NaN</td>\n",
       "      <td>Fell</td>\n",
       "      <td>{'type': 'Point', 'coordinates': [6.08333, 50....</td>\n",
       "      <td>1</td>\n",
       "      <td>21.0</td>\n",
       "      <td>Aachen</td>\n",
       "      <td>Valid</td>\n",
       "      <td>L5</td>\n",
       "      <td>50.77500</td>\n",
       "      <td>6.08333</td>\n",
       "      <td>1880-01-01T00:00:00.000</td>\n",
       "    </tr>\n",
       "    <tr>\n",
       "      <th>1</th>\n",
       "      <td>NaN</td>\n",
       "      <td>NaN</td>\n",
       "      <td>Fell</td>\n",
       "      <td>{'type': 'Point', 'coordinates': [10.23333, 56...</td>\n",
       "      <td>2</td>\n",
       "      <td>720.0</td>\n",
       "      <td>Aarhus</td>\n",
       "      <td>Valid</td>\n",
       "      <td>H6</td>\n",
       "      <td>56.18333</td>\n",
       "      <td>10.23333</td>\n",
       "      <td>1951-01-01T00:00:00.000</td>\n",
       "    </tr>\n",
       "    <tr>\n",
       "      <th>2</th>\n",
       "      <td>NaN</td>\n",
       "      <td>NaN</td>\n",
       "      <td>Fell</td>\n",
       "      <td>{'type': 'Point', 'coordinates': [-113, 54.216...</td>\n",
       "      <td>6</td>\n",
       "      <td>107000.0</td>\n",
       "      <td>Abee</td>\n",
       "      <td>Valid</td>\n",
       "      <td>EH4</td>\n",
       "      <td>54.21667</td>\n",
       "      <td>-113.00000</td>\n",
       "      <td>1952-01-01T00:00:00.000</td>\n",
       "    </tr>\n",
       "    <tr>\n",
       "      <th>3</th>\n",
       "      <td>NaN</td>\n",
       "      <td>NaN</td>\n",
       "      <td>Fell</td>\n",
       "      <td>{'type': 'Point', 'coordinates': [-99.9, 16.88...</td>\n",
       "      <td>10</td>\n",
       "      <td>1914.0</td>\n",
       "      <td>Acapulco</td>\n",
       "      <td>Valid</td>\n",
       "      <td>Acapulcoite</td>\n",
       "      <td>16.88333</td>\n",
       "      <td>-99.90000</td>\n",
       "      <td>1976-01-01T00:00:00.000</td>\n",
       "    </tr>\n",
       "    <tr>\n",
       "      <th>4</th>\n",
       "      <td>NaN</td>\n",
       "      <td>NaN</td>\n",
       "      <td>Fell</td>\n",
       "      <td>{'type': 'Point', 'coordinates': [-64.95, -33....</td>\n",
       "      <td>370</td>\n",
       "      <td>780.0</td>\n",
       "      <td>Achiras</td>\n",
       "      <td>Valid</td>\n",
       "      <td>L6</td>\n",
       "      <td>-33.16667</td>\n",
       "      <td>-64.95000</td>\n",
       "      <td>1902-01-01T00:00:00.000</td>\n",
       "    </tr>\n",
       "  </tbody>\n",
       "</table>\n",
       "</div>"
      ],
      "text/plain": [
       "   :@computed_region_cbhk_fwbd  :@computed_region_nnqa_25f4  fall  \\\n",
       "0                          NaN                          NaN  Fell   \n",
       "1                          NaN                          NaN  Fell   \n",
       "2                          NaN                          NaN  Fell   \n",
       "3                          NaN                          NaN  Fell   \n",
       "4                          NaN                          NaN  Fell   \n",
       "\n",
       "                                         geolocation   id      mass      name  \\\n",
       "0  {'type': 'Point', 'coordinates': [6.08333, 50....    1      21.0    Aachen   \n",
       "1  {'type': 'Point', 'coordinates': [10.23333, 56...    2     720.0    Aarhus   \n",
       "2  {'type': 'Point', 'coordinates': [-113, 54.216...    6  107000.0      Abee   \n",
       "3  {'type': 'Point', 'coordinates': [-99.9, 16.88...   10    1914.0  Acapulco   \n",
       "4  {'type': 'Point', 'coordinates': [-64.95, -33....  370     780.0   Achiras   \n",
       "\n",
       "  nametype     recclass    reclat    reclong                     year  \n",
       "0    Valid           L5  50.77500    6.08333  1880-01-01T00:00:00.000  \n",
       "1    Valid           H6  56.18333   10.23333  1951-01-01T00:00:00.000  \n",
       "2    Valid          EH4  54.21667 -113.00000  1952-01-01T00:00:00.000  \n",
       "3    Valid  Acapulcoite  16.88333  -99.90000  1976-01-01T00:00:00.000  \n",
       "4    Valid           L6 -33.16667  -64.95000  1902-01-01T00:00:00.000  "
      ]
     },
     "execution_count": 63,
     "metadata": {},
     "output_type": "execute_result"
    }
   ],
   "source": [
    "dt.head()"
   ]
  },
  {
   "cell_type": "code",
   "execution_count": 64,
   "metadata": {},
   "outputs": [
    {
     "data": {
      "text/plain": [
       "\"{'type': 'Point', 'coordinates': [6.08333, 50.775]}\""
      ]
     },
     "execution_count": 64,
     "metadata": {},
     "output_type": "execute_result"
    }
   ],
   "source": [
    "dt['geolocation'][0]"
   ]
  },
  {
   "cell_type": "markdown",
   "metadata": {},
   "source": [
    "#### Question 5 -\n",
    "#### Write a program to download the data from the given API link and then extract the following data with proper formatting\n",
    "#### Link - http://api.tvmaze.com/singlesearch/shows?q=westworld&embed=episodes\n",
    "#### Note - Write proper code comments wherever needed for the code understanding"
   ]
  },
  {
   "cell_type": "code",
   "execution_count": 79,
   "metadata": {},
   "outputs": [
    {
     "name": "stdout",
     "output_type": "stream",
     "text": [
      "1371\n"
     ]
    },
    {
     "ename": "KeyError",
     "evalue": "'airtime'",
     "output_type": "error",
     "traceback": [
      "\u001b[1;31m---------------------------------------------------------------------------\u001b[0m",
      "\u001b[1;31mKeyError\u001b[0m                                  Traceback (most recent call last)",
      "\u001b[1;32m<ipython-input-79-58894bf3189d>\u001b[0m in \u001b[0;36m<module>\u001b[1;34m()\u001b[0m\n\u001b[0;32m     48\u001b[0m \u001b[1;33m\u001b[0m\u001b[0m\n\u001b[0;32m     49\u001b[0m \u001b[1;31m# data = json.loads(data)\u001b[0m\u001b[1;33m\u001b[0m\u001b[1;33m\u001b[0m\u001b[0m\n\u001b[1;32m---> 50\u001b[1;33m \u001b[0mextract_data\u001b[0m\u001b[1;33m(\u001b[0m\u001b[0mdata\u001b[0m\u001b[1;33m)\u001b[0m\u001b[1;33m\u001b[0m\u001b[0m\n\u001b[0m\u001b[0;32m     51\u001b[0m \u001b[1;31m# Process the data\u001b[0m\u001b[1;33m\u001b[0m\u001b[1;33m\u001b[0m\u001b[0m\n\u001b[0;32m     52\u001b[0m \u001b[1;31m# processed_data = process_data(data)\u001b[0m\u001b[1;33m\u001b[0m\u001b[1;33m\u001b[0m\u001b[0m\n",
      "\u001b[1;32m<ipython-input-79-58894bf3189d>\u001b[0m in \u001b[0;36mextract_data\u001b[1;34m(response_data)\u001b[0m\n\u001b[0;32m     23\u001b[0m         \u001b[0mtype\u001b[0m \u001b[1;33m=\u001b[0m \u001b[0mresponse_data\u001b[0m\u001b[1;33m[\u001b[0m\u001b[1;34m'type'\u001b[0m\u001b[1;33m]\u001b[0m\u001b[1;33m\u001b[0m\u001b[0m\n\u001b[0;32m     24\u001b[0m \u001b[1;33m\u001b[0m\u001b[0m\n\u001b[1;32m---> 25\u001b[1;33m         \u001b[0mairtime\u001b[0m \u001b[1;33m=\u001b[0m \u001b[0mresponse_data\u001b[0m\u001b[1;33m[\u001b[0m\u001b[1;34m'airtime'\u001b[0m\u001b[1;33m]\u001b[0m\u001b[1;33m\u001b[0m\u001b[0m\n\u001b[0m\u001b[0;32m     26\u001b[0m         \u001b[0mruntime\u001b[0m \u001b[1;33m=\u001b[0m \u001b[0mresponse_data\u001b[0m\u001b[1;33m[\u001b[0m\u001b[1;34m'runtime'\u001b[0m\u001b[1;33m]\u001b[0m\u001b[1;33m\u001b[0m\u001b[0m\n\u001b[0;32m     27\u001b[0m         \u001b[0mavg_rating\u001b[0m \u001b[1;33m=\u001b[0m \u001b[0mresponse_data\u001b[0m\u001b[1;33m[\u001b[0m\u001b[1;34m'rating'\u001b[0m\u001b[1;33m]\u001b[0m\u001b[1;33m[\u001b[0m\u001b[1;34m'average'\u001b[0m\u001b[1;33m]\u001b[0m\u001b[1;33m\u001b[0m\u001b[0m\n",
      "\u001b[1;31mKeyError\u001b[0m: 'airtime'"
     ]
    }
   ],
   "source": [
    "import requests\n",
    "import pandas as pd\n",
    "import json\n",
    "from openpyxl import Workbook\n",
    "from pandas import ExcelWriter\n",
    "\n",
    "all_data = []\n",
    "#the function which will down load the data\n",
    "def download_data(url):\n",
    "    response = requests.get(url)\n",
    "    if response.status_code == 200:\n",
    "        return response.json()\n",
    "    else:\n",
    "        raise Exception(\"Failed to download data from the provided link.\")\n",
    "\n",
    "\n",
    "def extract_data(response_data):\n",
    "    print(response_data['id'])\n",
    "    for item in range(len(response_data)):\n",
    "        id = response_data['id']\n",
    "        name = response_data['name']\n",
    "    \n",
    "        type = response_data['type']\n",
    "        \n",
    "        airtime = response_data['airtime']\n",
    "        runtime = response_data['runtime']\n",
    "        avg_rating = response_data['rating']['average']\n",
    "        summary = response_data['summary']\n",
    "        medium_img_link = response_data['image']['medium']\n",
    "        original_image_link = response_data['image']['original']\n",
    "        \n",
    "        all_data.append([id, url, name])\n",
    "        \n",
    "                \n",
    "\n",
    "def convert_to_csv():\n",
    "    with open(\"data.csv\", \"w\", newline=\"\") as file:\n",
    "        writer = csv.writer(file)\n",
    "        writer.writerow([\"ID\",\"Name\",\"Number\",\"Type\",\"AirDate\",\"AirTime\",\"RunTime\",\"Average_Rating\",\"Summary\",\"Medium_link\",\"Original_likn\"])  # Header row\n",
    "        writer.writerows(all_data) \n",
    "    \n",
    "# Example usage\n",
    "url = \"http://api.tvmaze.com/singlesearch/shows?q=westworld&embed=episodes\"  # Replace with the actual URL of the data file\n",
    "# output_file = \"output3.csv\"  # Specify the desired output file name\n",
    "\n",
    "# Download the data\n",
    "data = download_data(url)\n",
    "\n",
    "# data = json.loads(data)\n",
    "extract_data(data)\n",
    "# Process the data\n",
    "# processed_data = process_data(data)\n",
    "\n",
    "# Convert and save to Excel\n",
    "convert_to_csv()"
   ]
  },
  {
   "cell_type": "markdown",
   "metadata": {},
   "source": [
    "#### Question 6 -\n",
    "#### Using the data from Question 3, write code to analyze the data and answer the following questions \n",
    "#### Note 1. Draw plots to demonstrate the analysis for the following questions for better visualizations.\n",
    "#### 2. Write code comments wherever required for code understanding\n",
    "#### Insights to be drawn -\n",
    "##### Get all Pokemons whose spawn rate is less than 5%\n",
    "##### Get all Pokemons that have less than 4 weaknesses\n",
    "##### Get all Pokemons that have no multipliers at all\n",
    "##### Get all Pokemons that do not have more than 2 evolutions\n",
    "##### Get all Pokemons whose spawn time is less than 300 seconds.\n",
    "#### Note - spawn time format is \"05:32”, so assume “minute: second” format and perform the analysis.\n",
    "##### Get all Pokemon who have more than two types of capabilities"
   ]
  },
  {
   "cell_type": "code",
   "execution_count": 98,
   "metadata": {},
   "outputs": [],
   "source": [
    "data = pd.read_excel('outputnew.xlsx')"
   ]
  },
  {
   "cell_type": "code",
   "execution_count": 100,
   "metadata": {},
   "outputs": [
    {
     "data": {
      "text/html": [
       "<div>\n",
       "<style scoped>\n",
       "    .dataframe tbody tr th:only-of-type {\n",
       "        vertical-align: middle;\n",
       "    }\n",
       "\n",
       "    .dataframe tbody tr th {\n",
       "        vertical-align: top;\n",
       "    }\n",
       "\n",
       "    .dataframe thead th {\n",
       "        text-align: right;\n",
       "    }\n",
       "</style>\n",
       "<table border=\"1\" class=\"dataframe\">\n",
       "  <thead>\n",
       "    <tr style=\"text-align: right;\">\n",
       "      <th></th>\n",
       "      <th>avg_spawns</th>\n",
       "      <th>candy</th>\n",
       "      <th>egg</th>\n",
       "      <th>evolutions</th>\n",
       "      <th>id</th>\n",
       "      <th>multipliers</th>\n",
       "      <th>spawn_chance</th>\n",
       "      <th>spawn_time</th>\n",
       "      <th>weakness</th>\n",
       "      <th>weight</th>\n",
       "    </tr>\n",
       "  </thead>\n",
       "  <tbody>\n",
       "    <tr>\n",
       "      <th>0</th>\n",
       "      <td>69.0</td>\n",
       "      <td>15</td>\n",
       "      <td>2 km</td>\n",
       "      <td>2</td>\n",
       "      <td>1</td>\n",
       "      <td>1</td>\n",
       "      <td>0.690</td>\n",
       "      <td>20:00</td>\n",
       "      <td>4</td>\n",
       "      <td>6.9 kg</td>\n",
       "    </tr>\n",
       "    <tr>\n",
       "      <th>1</th>\n",
       "      <td>4.2</td>\n",
       "      <td>15</td>\n",
       "      <td>Not in Eggs</td>\n",
       "      <td>1</td>\n",
       "      <td>2</td>\n",
       "      <td>2</td>\n",
       "      <td>0.042</td>\n",
       "      <td>07:00</td>\n",
       "      <td>4</td>\n",
       "      <td>13.0 kg</td>\n",
       "    </tr>\n",
       "    <tr>\n",
       "      <th>2</th>\n",
       "      <td>1.7</td>\n",
       "      <td>15</td>\n",
       "      <td>Not in Eggs</td>\n",
       "      <td>0</td>\n",
       "      <td>3</td>\n",
       "      <td>0</td>\n",
       "      <td>0.017</td>\n",
       "      <td>11:30</td>\n",
       "      <td>4</td>\n",
       "      <td>100.0 kg</td>\n",
       "    </tr>\n",
       "    <tr>\n",
       "      <th>3</th>\n",
       "      <td>25.3</td>\n",
       "      <td>16</td>\n",
       "      <td>2 km</td>\n",
       "      <td>2</td>\n",
       "      <td>4</td>\n",
       "      <td>1</td>\n",
       "      <td>0.253</td>\n",
       "      <td>08:45</td>\n",
       "      <td>3</td>\n",
       "      <td>8.5 kg</td>\n",
       "    </tr>\n",
       "    <tr>\n",
       "      <th>4</th>\n",
       "      <td>1.2</td>\n",
       "      <td>16</td>\n",
       "      <td>Not in Eggs</td>\n",
       "      <td>1</td>\n",
       "      <td>5</td>\n",
       "      <td>1</td>\n",
       "      <td>0.012</td>\n",
       "      <td>19:00</td>\n",
       "      <td>3</td>\n",
       "      <td>19.0 kg</td>\n",
       "    </tr>\n",
       "  </tbody>\n",
       "</table>\n",
       "</div>"
      ],
      "text/plain": [
       "   avg_spawns  candy          egg  evolutions  id  multipliers  spawn_chance  \\\n",
       "0        69.0     15         2 km           2   1            1         0.690   \n",
       "1         4.2     15  Not in Eggs           1   2            2         0.042   \n",
       "2         1.7     15  Not in Eggs           0   3            0         0.017   \n",
       "3        25.3     16         2 km           2   4            1         0.253   \n",
       "4         1.2     16  Not in Eggs           1   5            1         0.012   \n",
       "\n",
       "  spawn_time  weakness    weight  \n",
       "0      20:00         4    6.9 kg  \n",
       "1      07:00         4   13.0 kg  \n",
       "2      11:30         4  100.0 kg  \n",
       "3      08:45         3    8.5 kg  \n",
       "4      19:00         3   19.0 kg  "
      ]
     },
     "execution_count": 100,
     "metadata": {},
     "output_type": "execute_result"
    }
   ],
   "source": [
    "data.head()"
   ]
  },
  {
   "cell_type": "code",
   "execution_count": 101,
   "metadata": {},
   "outputs": [
    {
     "data": {
      "text/plain": [
       "(151, 10)"
      ]
     },
     "execution_count": 101,
     "metadata": {},
     "output_type": "execute_result"
    }
   ],
   "source": [
    "data.shape"
   ]
  },
  {
   "cell_type": "code",
   "execution_count": 102,
   "metadata": {},
   "outputs": [
    {
     "data": {
      "text/plain": [
       "avg_spawns      0\n",
       "candy           0\n",
       "egg             0\n",
       "evolutions      0\n",
       "id              0\n",
       "multipliers     0\n",
       "spawn_chance    0\n",
       "spawn_time      6\n",
       "weakness        0\n",
       "weight          0\n",
       "dtype: int64"
      ]
     },
     "execution_count": 102,
     "metadata": {},
     "output_type": "execute_result"
    }
   ],
   "source": [
    "data.isnull().sum()"
   ]
  },
  {
   "cell_type": "code",
   "execution_count": 103,
   "metadata": {},
   "outputs": [],
   "source": [
    "data.dropna(inplace=True)"
   ]
  },
  {
   "cell_type": "code",
   "execution_count": 104,
   "metadata": {},
   "outputs": [
    {
     "data": {
      "text/plain": [
       "avg_spawns      0\n",
       "candy           0\n",
       "egg             0\n",
       "evolutions      0\n",
       "id              0\n",
       "multipliers     0\n",
       "spawn_chance    0\n",
       "spawn_time      0\n",
       "weakness        0\n",
       "weight          0\n",
       "dtype: int64"
      ]
     },
     "execution_count": 104,
     "metadata": {},
     "output_type": "execute_result"
    }
   ],
   "source": [
    "data.isnull().sum()"
   ]
  },
  {
   "cell_type": "code",
   "execution_count": 105,
   "metadata": {},
   "outputs": [
    {
     "name": "stdout",
     "output_type": "stream",
     "text": [
      "<class 'pandas.core.frame.DataFrame'>\n",
      "Int64Index: 145 entries, 0 to 148\n",
      "Data columns (total 10 columns):\n",
      "avg_spawns      145 non-null float64\n",
      "candy           145 non-null int64\n",
      "egg             145 non-null object\n",
      "evolutions      145 non-null int64\n",
      "id              145 non-null int64\n",
      "multipliers     145 non-null int64\n",
      "spawn_chance    145 non-null float64\n",
      "spawn_time      145 non-null object\n",
      "weakness        145 non-null int64\n",
      "weight          145 non-null object\n",
      "dtypes: float64(2), int64(5), object(3)\n",
      "memory usage: 12.5+ KB\n"
     ]
    }
   ],
   "source": [
    "data.info()"
   ]
  },
  {
   "cell_type": "code",
   "execution_count": 110,
   "metadata": {},
   "outputs": [],
   "source": [
    "data_weakness_4 = data[data['weakness']<4]"
   ]
  },
  {
   "cell_type": "code",
   "execution_count": 107,
   "metadata": {},
   "outputs": [
    {
     "data": {
      "text/plain": [
       "3    39\n",
       "2    37\n",
       "4    29\n",
       "1    21\n",
       "6     9\n",
       "5     8\n",
       "7     2\n",
       "Name: weakness, dtype: int64"
      ]
     },
     "execution_count": 107,
     "metadata": {},
     "output_type": "execute_result"
    }
   ],
   "source": []
  },
  {
   "cell_type": "code",
   "execution_count": 108,
   "metadata": {},
   "outputs": [],
   "source": [
    "import numpy as np\n",
    "import seaborn as sns\n",
    "import matplotlib.pyplot as plt"
   ]
  },
  {
   "cell_type": "code",
   "execution_count": 111,
   "metadata": {},
   "outputs": [
    {
     "data": {
      "image/png": "[encoded data removed]",
      "text/plain": [
       "<Figure size 432x288 with 1 Axes>"
      ]
     },
     "metadata": {},
     "output_type": "display_data"
    }
   ],
   "source": [
    "sns.countplot(data_weakness_4['weakness'])\n",
    "plt.show()"
   ]
  },
  {
   "cell_type": "code",
   "execution_count": 114,
   "metadata": {},
   "outputs": [],
   "source": [
    "d_multipliers_0 = data[data['multipliers']==0]"
   ]
  },
  {
   "cell_type": "code",
   "execution_count": 116,
   "metadata": {},
   "outputs": [
    {
     "data": {
      "image/png": "[encoded data removed]",
      "text/plain": [
       "<Figure size 432x288 with 1 Axes>"
      ]
     },
     "metadata": {},
     "output_type": "display_data"
    }
   ],
   "source": [
    "sns.countplot(d_multipliers_0['multipliers'])\n",
    "plt.show()"
   ]
  },
  {
   "cell_type": "code",
   "execution_count": 117,
   "metadata": {},
   "outputs": [],
   "source": [
    "d_evolutions = data[data['evolutions']<=2]"
   ]
  },
  {
   "cell_type": "code",
   "execution_count": 118,
   "metadata": {},
   "outputs": [
    {
     "data": {
      "image/png": "[encoded data removed]",
      "text/plain": [
       "<Figure size 432x288 with 1 Axes>"
      ]
     },
     "metadata": {},
     "output_type": "display_data"
    }
   ],
   "source": [
    "sns.countplot(d_evolutions['evolutions'])\n",
    "plt.show()"
   ]
  },
  {
   "cell_type": "code",
   "execution_count": 123,
   "metadata": {},
   "outputs": [],
   "source": [
    "data['spawn_time'] =  pd.to_timedelta(data['spawn_time'])"
   ]
  },
  {
   "cell_type": "code",
   "execution_count": 126,
   "metadata": {},
   "outputs": [],
   "source": [
    "data['spawn_time'] = data['spawn_time'].dt.total_seconds().astype(int)"
   ]
  },
  {
   "cell_type": "code",
   "execution_count": 127,
   "metadata": {},
   "outputs": [
    {
     "data": {
      "text/html": [
       "<div>\n",
       "<style scoped>\n",
       "    .dataframe tbody tr th:only-of-type {\n",
       "        vertical-align: middle;\n",
       "    }\n",
       "\n",
       "    .dataframe tbody tr th {\n",
       "        vertical-align: top;\n",
       "    }\n",
       "\n",
       "    .dataframe thead th {\n",
       "        text-align: right;\n",
       "    }\n",
       "</style>\n",
       "<table border=\"1\" class=\"dataframe\">\n",
       "  <thead>\n",
       "    <tr style=\"text-align: right;\">\n",
       "      <th></th>\n",
       "      <th>avg_spawns</th>\n",
       "      <th>candy</th>\n",
       "      <th>egg</th>\n",
       "      <th>evolutions</th>\n",
       "      <th>id</th>\n",
       "      <th>multipliers</th>\n",
       "      <th>spawn_chance</th>\n",
       "      <th>spawn_time</th>\n",
       "      <th>weakness</th>\n",
       "      <th>weight</th>\n",
       "    </tr>\n",
       "  </thead>\n",
       "  <tbody>\n",
       "    <tr>\n",
       "      <th>0</th>\n",
       "      <td>69.0</td>\n",
       "      <td>15</td>\n",
       "      <td>2 km</td>\n",
       "      <td>2</td>\n",
       "      <td>1</td>\n",
       "      <td>1</td>\n",
       "      <td>0.690</td>\n",
       "      <td>1684526400</td>\n",
       "      <td>4</td>\n",
       "      <td>6.9 kg</td>\n",
       "    </tr>\n",
       "    <tr>\n",
       "      <th>1</th>\n",
       "      <td>4.2</td>\n",
       "      <td>15</td>\n",
       "      <td>Not in Eggs</td>\n",
       "      <td>1</td>\n",
       "      <td>2</td>\n",
       "      <td>2</td>\n",
       "      <td>0.042</td>\n",
       "      <td>1684479600</td>\n",
       "      <td>4</td>\n",
       "      <td>13.0 kg</td>\n",
       "    </tr>\n",
       "    <tr>\n",
       "      <th>2</th>\n",
       "      <td>1.7</td>\n",
       "      <td>15</td>\n",
       "      <td>Not in Eggs</td>\n",
       "      <td>0</td>\n",
       "      <td>3</td>\n",
       "      <td>0</td>\n",
       "      <td>0.017</td>\n",
       "      <td>1684495800</td>\n",
       "      <td>4</td>\n",
       "      <td>100.0 kg</td>\n",
       "    </tr>\n",
       "    <tr>\n",
       "      <th>3</th>\n",
       "      <td>25.3</td>\n",
       "      <td>16</td>\n",
       "      <td>2 km</td>\n",
       "      <td>2</td>\n",
       "      <td>4</td>\n",
       "      <td>1</td>\n",
       "      <td>0.253</td>\n",
       "      <td>1684485900</td>\n",
       "      <td>3</td>\n",
       "      <td>8.5 kg</td>\n",
       "    </tr>\n",
       "    <tr>\n",
       "      <th>4</th>\n",
       "      <td>1.2</td>\n",
       "      <td>16</td>\n",
       "      <td>Not in Eggs</td>\n",
       "      <td>1</td>\n",
       "      <td>5</td>\n",
       "      <td>1</td>\n",
       "      <td>0.012</td>\n",
       "      <td>1684522800</td>\n",
       "      <td>3</td>\n",
       "      <td>19.0 kg</td>\n",
       "    </tr>\n",
       "  </tbody>\n",
       "</table>\n",
       "</div>"
      ],
      "text/plain": [
       "   avg_spawns  candy          egg  evolutions  id  multipliers  spawn_chance  \\\n",
       "0        69.0     15         2 km           2   1            1         0.690   \n",
       "1         4.2     15  Not in Eggs           1   2            2         0.042   \n",
       "2         1.7     15  Not in Eggs           0   3            0         0.017   \n",
       "3        25.3     16         2 km           2   4            1         0.253   \n",
       "4         1.2     16  Not in Eggs           1   5            1         0.012   \n",
       "\n",
       "   spawn_time  weakness    weight  \n",
       "0  1684526400         4    6.9 kg  \n",
       "1  1684479600         4   13.0 kg  \n",
       "2  1684495800         4  100.0 kg  \n",
       "3  1684485900         3    8.5 kg  \n",
       "4  1684522800         3   19.0 kg  "
      ]
     },
     "execution_count": 127,
     "metadata": {},
     "output_type": "execute_result"
    }
   ],
   "source": [
    "data.head()"
   ]
  },
  {
   "cell_type": "code",
   "execution_count": 128,
   "metadata": {},
   "outputs": [],
   "source": [
    "data_s = data[data['spawn_time']>300]"
   ]
  },
  {
   "cell_type": "code",
   "execution_count": 129,
   "metadata": {},
   "outputs": [
    {
     "name": "stderr",
     "output_type": "stream",
     "text": [
      "C:\\Users\\k.vidya\\Anaconda3\\lib\\site-packages\\matplotlib\\axes\\_axes.py:6462: UserWarning: The 'normed' kwarg is deprecated, and has been replaced by the 'density' kwarg.\n",
      "  warnings.warn(\"The 'normed' kwarg is deprecated, and has been \"\n"
     ]
    },
    {
     "data": {
      "image/png": "[encoded data removed]",
      "text/plain": [
       "<Figure size 432x288 with 1 Axes>"
      ]
     },
     "metadata": {},
     "output_type": "display_data"
    }
   ],
   "source": [
    "sns.distplot(data_s['spawn_time'])\n",
    "plt.show()"
   ]
  },
  {
   "cell_type": "markdown",
   "metadata": {},
   "source": [
    "#### Question 7 -\n",
    "#### Using the data from Question 4, write code to analyze the data and answer the following questions Note -\n",
    "##### 1. Draw plots to demonstrate the analysis for the following questions for better visualizations\n",
    "##### 2. Write code comments wherever required for code understanding\n",
    "\n",
    "#### Insights to be drawn -\n",
    "##### Get all the Earth meteorites that fell before the year 2000\n",
    "##### Get all the earth meteorites co-ordinates who fell before the year 1970\n",
    "##### Assuming that the mass of the earth meteorites was in kg, get all those whose mass was more than 10000kg"
   ]
  },
  {
   "cell_type": "code",
   "execution_count": 130,
   "metadata": {},
   "outputs": [],
   "source": [
    "dataset = pd.read_csv('output3.csv')"
   ]
  },
  {
   "cell_type": "code",
   "execution_count": 131,
   "metadata": {},
   "outputs": [
    {
     "data": {
      "text/html": [
       "<div>\n",
       "<style scoped>\n",
       "    .dataframe tbody tr th:only-of-type {\n",
       "        vertical-align: middle;\n",
       "    }\n",
       "\n",
       "    .dataframe tbody tr th {\n",
       "        vertical-align: top;\n",
       "    }\n",
       "\n",
       "    .dataframe thead th {\n",
       "        text-align: right;\n",
       "    }\n",
       "</style>\n",
       "<table border=\"1\" class=\"dataframe\">\n",
       "  <thead>\n",
       "    <tr style=\"text-align: right;\">\n",
       "      <th></th>\n",
       "      <th>:@computed_region_cbhk_fwbd</th>\n",
       "      <th>:@computed_region_nnqa_25f4</th>\n",
       "      <th>fall</th>\n",
       "      <th>geolocation</th>\n",
       "      <th>id</th>\n",
       "      <th>mass</th>\n",
       "      <th>name</th>\n",
       "      <th>nametype</th>\n",
       "      <th>recclass</th>\n",
       "      <th>reclat</th>\n",
       "      <th>reclong</th>\n",
       "      <th>year</th>\n",
       "    </tr>\n",
       "  </thead>\n",
       "  <tbody>\n",
       "    <tr>\n",
       "      <th>0</th>\n",
       "      <td>NaN</td>\n",
       "      <td>NaN</td>\n",
       "      <td>Fell</td>\n",
       "      <td>{'type': 'Point', 'coordinates': [6.08333, 50....</td>\n",
       "      <td>1</td>\n",
       "      <td>21.0</td>\n",
       "      <td>Aachen</td>\n",
       "      <td>Valid</td>\n",
       "      <td>L5</td>\n",
       "      <td>50.77500</td>\n",
       "      <td>6.08333</td>\n",
       "      <td>1880-01-01T00:00:00.000</td>\n",
       "    </tr>\n",
       "    <tr>\n",
       "      <th>1</th>\n",
       "      <td>NaN</td>\n",
       "      <td>NaN</td>\n",
       "      <td>Fell</td>\n",
       "      <td>{'type': 'Point', 'coordinates': [10.23333, 56...</td>\n",
       "      <td>2</td>\n",
       "      <td>720.0</td>\n",
       "      <td>Aarhus</td>\n",
       "      <td>Valid</td>\n",
       "      <td>H6</td>\n",
       "      <td>56.18333</td>\n",
       "      <td>10.23333</td>\n",
       "      <td>1951-01-01T00:00:00.000</td>\n",
       "    </tr>\n",
       "    <tr>\n",
       "      <th>2</th>\n",
       "      <td>NaN</td>\n",
       "      <td>NaN</td>\n",
       "      <td>Fell</td>\n",
       "      <td>{'type': 'Point', 'coordinates': [-113, 54.216...</td>\n",
       "      <td>6</td>\n",
       "      <td>107000.0</td>\n",
       "      <td>Abee</td>\n",
       "      <td>Valid</td>\n",
       "      <td>EH4</td>\n",
       "      <td>54.21667</td>\n",
       "      <td>-113.00000</td>\n",
       "      <td>1952-01-01T00:00:00.000</td>\n",
       "    </tr>\n",
       "    <tr>\n",
       "      <th>3</th>\n",
       "      <td>NaN</td>\n",
       "      <td>NaN</td>\n",
       "      <td>Fell</td>\n",
       "      <td>{'type': 'Point', 'coordinates': [-99.9, 16.88...</td>\n",
       "      <td>10</td>\n",
       "      <td>1914.0</td>\n",
       "      <td>Acapulco</td>\n",
       "      <td>Valid</td>\n",
       "      <td>Acapulcoite</td>\n",
       "      <td>16.88333</td>\n",
       "      <td>-99.90000</td>\n",
       "      <td>1976-01-01T00:00:00.000</td>\n",
       "    </tr>\n",
       "    <tr>\n",
       "      <th>4</th>\n",
       "      <td>NaN</td>\n",
       "      <td>NaN</td>\n",
       "      <td>Fell</td>\n",
       "      <td>{'type': 'Point', 'coordinates': [-64.95, -33....</td>\n",
       "      <td>370</td>\n",
       "      <td>780.0</td>\n",
       "      <td>Achiras</td>\n",
       "      <td>Valid</td>\n",
       "      <td>L6</td>\n",
       "      <td>-33.16667</td>\n",
       "      <td>-64.95000</td>\n",
       "      <td>1902-01-01T00:00:00.000</td>\n",
       "    </tr>\n",
       "  </tbody>\n",
       "</table>\n",
       "</div>"
      ],
      "text/plain": [
       "   :@computed_region_cbhk_fwbd  :@computed_region_nnqa_25f4  fall  \\\n",
       "0                          NaN                          NaN  Fell   \n",
       "1                          NaN                          NaN  Fell   \n",
       "2                          NaN                          NaN  Fell   \n",
       "3                          NaN                          NaN  Fell   \n",
       "4                          NaN                          NaN  Fell   \n",
       "\n",
       "                                         geolocation   id      mass      name  \\\n",
       "0  {'type': 'Point', 'coordinates': [6.08333, 50....    1      21.0    Aachen   \n",
       "1  {'type': 'Point', 'coordinates': [10.23333, 56...    2     720.0    Aarhus   \n",
       "2  {'type': 'Point', 'coordinates': [-113, 54.216...    6  107000.0      Abee   \n",
       "3  {'type': 'Point', 'coordinates': [-99.9, 16.88...   10    1914.0  Acapulco   \n",
       "4  {'type': 'Point', 'coordinates': [-64.95, -33....  370     780.0   Achiras   \n",
       "\n",
       "  nametype     recclass    reclat    reclong                     year  \n",
       "0    Valid           L5  50.77500    6.08333  1880-01-01T00:00:00.000  \n",
       "1    Valid           H6  56.18333   10.23333  1951-01-01T00:00:00.000  \n",
       "2    Valid          EH4  54.21667 -113.00000  1952-01-01T00:00:00.000  \n",
       "3    Valid  Acapulcoite  16.88333  -99.90000  1976-01-01T00:00:00.000  \n",
       "4    Valid           L6 -33.16667  -64.95000  1902-01-01T00:00:00.000  "
      ]
     },
     "execution_count": 131,
     "metadata": {},
     "output_type": "execute_result"
    }
   ],
   "source": [
    "dataset.head()"
   ]
  },
  {
   "cell_type": "code",
   "execution_count": 132,
   "metadata": {},
   "outputs": [],
   "source": [
    "dataset.drop([':@computed_region_cbhk_fwbd',':@computed_region_nnqa_25f4'],axis=1,inplace=True)"
   ]
  },
  {
   "cell_type": "code",
   "execution_count": 133,
   "metadata": {},
   "outputs": [
    {
     "data": {
      "text/html": [
       "<div>\n",
       "<style scoped>\n",
       "    .dataframe tbody tr th:only-of-type {\n",
       "        vertical-align: middle;\n",
       "    }\n",
       "\n",
       "    .dataframe tbody tr th {\n",
       "        vertical-align: top;\n",
       "    }\n",
       "\n",
       "    .dataframe thead th {\n",
       "        text-align: right;\n",
       "    }\n",
       "</style>\n",
       "<table border=\"1\" class=\"dataframe\">\n",
       "  <thead>\n",
       "    <tr style=\"text-align: right;\">\n",
       "      <th></th>\n",
       "      <th>fall</th>\n",
       "      <th>geolocation</th>\n",
       "      <th>id</th>\n",
       "      <th>mass</th>\n",
       "      <th>name</th>\n",
       "      <th>nametype</th>\n",
       "      <th>recclass</th>\n",
       "      <th>reclat</th>\n",
       "      <th>reclong</th>\n",
       "      <th>year</th>\n",
       "    </tr>\n",
       "  </thead>\n",
       "  <tbody>\n",
       "    <tr>\n",
       "      <th>0</th>\n",
       "      <td>Fell</td>\n",
       "      <td>{'type': 'Point', 'coordinates': [6.08333, 50....</td>\n",
       "      <td>1</td>\n",
       "      <td>21.0</td>\n",
       "      <td>Aachen</td>\n",
       "      <td>Valid</td>\n",
       "      <td>L5</td>\n",
       "      <td>50.77500</td>\n",
       "      <td>6.08333</td>\n",
       "      <td>1880-01-01T00:00:00.000</td>\n",
       "    </tr>\n",
       "    <tr>\n",
       "      <th>1</th>\n",
       "      <td>Fell</td>\n",
       "      <td>{'type': 'Point', 'coordinates': [10.23333, 56...</td>\n",
       "      <td>2</td>\n",
       "      <td>720.0</td>\n",
       "      <td>Aarhus</td>\n",
       "      <td>Valid</td>\n",
       "      <td>H6</td>\n",
       "      <td>56.18333</td>\n",
       "      <td>10.23333</td>\n",
       "      <td>1951-01-01T00:00:00.000</td>\n",
       "    </tr>\n",
       "    <tr>\n",
       "      <th>2</th>\n",
       "      <td>Fell</td>\n",
       "      <td>{'type': 'Point', 'coordinates': [-113, 54.216...</td>\n",
       "      <td>6</td>\n",
       "      <td>107000.0</td>\n",
       "      <td>Abee</td>\n",
       "      <td>Valid</td>\n",
       "      <td>EH4</td>\n",
       "      <td>54.21667</td>\n",
       "      <td>-113.00000</td>\n",
       "      <td>1952-01-01T00:00:00.000</td>\n",
       "    </tr>\n",
       "    <tr>\n",
       "      <th>3</th>\n",
       "      <td>Fell</td>\n",
       "      <td>{'type': 'Point', 'coordinates': [-99.9, 16.88...</td>\n",
       "      <td>10</td>\n",
       "      <td>1914.0</td>\n",
       "      <td>Acapulco</td>\n",
       "      <td>Valid</td>\n",
       "      <td>Acapulcoite</td>\n",
       "      <td>16.88333</td>\n",
       "      <td>-99.90000</td>\n",
       "      <td>1976-01-01T00:00:00.000</td>\n",
       "    </tr>\n",
       "    <tr>\n",
       "      <th>4</th>\n",
       "      <td>Fell</td>\n",
       "      <td>{'type': 'Point', 'coordinates': [-64.95, -33....</td>\n",
       "      <td>370</td>\n",
       "      <td>780.0</td>\n",
       "      <td>Achiras</td>\n",
       "      <td>Valid</td>\n",
       "      <td>L6</td>\n",
       "      <td>-33.16667</td>\n",
       "      <td>-64.95000</td>\n",
       "      <td>1902-01-01T00:00:00.000</td>\n",
       "    </tr>\n",
       "  </tbody>\n",
       "</table>\n",
       "</div>"
      ],
      "text/plain": [
       "   fall                                        geolocation   id      mass  \\\n",
       "0  Fell  {'type': 'Point', 'coordinates': [6.08333, 50....    1      21.0   \n",
       "1  Fell  {'type': 'Point', 'coordinates': [10.23333, 56...    2     720.0   \n",
       "2  Fell  {'type': 'Point', 'coordinates': [-113, 54.216...    6  107000.0   \n",
       "3  Fell  {'type': 'Point', 'coordinates': [-99.9, 16.88...   10    1914.0   \n",
       "4  Fell  {'type': 'Point', 'coordinates': [-64.95, -33....  370     780.0   \n",
       "\n",
       "       name nametype     recclass    reclat    reclong  \\\n",
       "0    Aachen    Valid           L5  50.77500    6.08333   \n",
       "1    Aarhus    Valid           H6  56.18333   10.23333   \n",
       "2      Abee    Valid          EH4  54.21667 -113.00000   \n",
       "3  Acapulco    Valid  Acapulcoite  16.88333  -99.90000   \n",
       "4   Achiras    Valid           L6 -33.16667  -64.95000   \n",
       "\n",
       "                      year  \n",
       "0  1880-01-01T00:00:00.000  \n",
       "1  1951-01-01T00:00:00.000  \n",
       "2  1952-01-01T00:00:00.000  \n",
       "3  1976-01-01T00:00:00.000  \n",
       "4  1902-01-01T00:00:00.000  "
      ]
     },
     "execution_count": 133,
     "metadata": {},
     "output_type": "execute_result"
    }
   ],
   "source": [
    "dataset.head()"
   ]
  },
  {
   "cell_type": "code",
   "execution_count": 134,
   "metadata": {},
   "outputs": [
    {
     "data": {
      "text/plain": [
       "(1000, 10)"
      ]
     },
     "execution_count": 134,
     "metadata": {},
     "output_type": "execute_result"
    }
   ],
   "source": [
    "dataset.shape"
   ]
  },
  {
   "cell_type": "code",
   "execution_count": 135,
   "metadata": {},
   "outputs": [
    {
     "name": "stdout",
     "output_type": "stream",
     "text": [
      "<class 'pandas.core.frame.DataFrame'>\n",
      "RangeIndex: 1000 entries, 0 to 999\n",
      "Data columns (total 10 columns):\n",
      "fall           1000 non-null object\n",
      "geolocation    988 non-null object\n",
      "id             1000 non-null int64\n",
      "mass           972 non-null float64\n",
      "name           1000 non-null object\n",
      "nametype       1000 non-null object\n",
      "recclass       1000 non-null object\n",
      "reclat         988 non-null float64\n",
      "reclong        988 non-null float64\n",
      "year           999 non-null object\n",
      "dtypes: float64(3), int64(1), object(6)\n",
      "memory usage: 78.2+ KB\n"
     ]
    }
   ],
   "source": [
    "dataset.info()"
   ]
  },
  {
   "cell_type": "code",
   "execution_count": 154,
   "metadata": {},
   "outputs": [],
   "source": [
    "def get_lattitude(data):\n",
    "    if isinstance(data, str):\n",
    "        s = data.split('coordinates')[1]\n",
    "        k = s.split(',')[0]\n",
    "        t = k[4:]\n",
    "        return t\n",
    "    else:\n",
    "        return None\n",
    "    \n",
    "\n",
    "dataset['lattitude'] = dataset['geolocation'].apply(get_lattitude)"
   ]
  },
  {
   "cell_type": "code",
   "execution_count": 159,
   "metadata": {},
   "outputs": [],
   "source": [
    "def get_longitude(data):\n",
    "    if isinstance(data,str):\n",
    "        s = data.split('coordinates')[1]\n",
    "        k = s.split(',')[1]\n",
    "        t = k[:-2]\n",
    "        return t\n",
    "    else:\n",
    "        return None\n",
    "\n",
    "    \n",
    "\n",
    "dataset['longitude'] = dataset['geolocation'].apply(get_longitude)"
   ]
  },
  {
   "cell_type": "code",
   "execution_count": 160,
   "metadata": {},
   "outputs": [
    {
     "data": {
      "text/html": [
       "<div>\n",
       "<style scoped>\n",
       "    .dataframe tbody tr th:only-of-type {\n",
       "        vertical-align: middle;\n",
       "    }\n",
       "\n",
       "    .dataframe tbody tr th {\n",
       "        vertical-align: top;\n",
       "    }\n",
       "\n",
       "    .dataframe thead th {\n",
       "        text-align: right;\n",
       "    }\n",
       "</style>\n",
       "<table border=\"1\" class=\"dataframe\">\n",
       "  <thead>\n",
       "    <tr style=\"text-align: right;\">\n",
       "      <th></th>\n",
       "      <th>fall</th>\n",
       "      <th>geolocation</th>\n",
       "      <th>id</th>\n",
       "      <th>mass</th>\n",
       "      <th>name</th>\n",
       "      <th>nametype</th>\n",
       "      <th>recclass</th>\n",
       "      <th>reclat</th>\n",
       "      <th>reclong</th>\n",
       "      <th>year</th>\n",
       "      <th>lattitude</th>\n",
       "      <th>longitude</th>\n",
       "    </tr>\n",
       "  </thead>\n",
       "  <tbody>\n",
       "    <tr>\n",
       "      <th>0</th>\n",
       "      <td>Fell</td>\n",
       "      <td>{'type': 'Point', 'coordinates': [6.08333, 50....</td>\n",
       "      <td>1</td>\n",
       "      <td>21.0</td>\n",
       "      <td>Aachen</td>\n",
       "      <td>Valid</td>\n",
       "      <td>L5</td>\n",
       "      <td>50.77500</td>\n",
       "      <td>6.08333</td>\n",
       "      <td>1880-01-01T00:00:00.000</td>\n",
       "      <td>6.08333</td>\n",
       "      <td>50.775</td>\n",
       "    </tr>\n",
       "    <tr>\n",
       "      <th>1</th>\n",
       "      <td>Fell</td>\n",
       "      <td>{'type': 'Point', 'coordinates': [10.23333, 56...</td>\n",
       "      <td>2</td>\n",
       "      <td>720.0</td>\n",
       "      <td>Aarhus</td>\n",
       "      <td>Valid</td>\n",
       "      <td>H6</td>\n",
       "      <td>56.18333</td>\n",
       "      <td>10.23333</td>\n",
       "      <td>1951-01-01T00:00:00.000</td>\n",
       "      <td>10.23333</td>\n",
       "      <td>56.18333</td>\n",
       "    </tr>\n",
       "    <tr>\n",
       "      <th>2</th>\n",
       "      <td>Fell</td>\n",
       "      <td>{'type': 'Point', 'coordinates': [-113, 54.216...</td>\n",
       "      <td>6</td>\n",
       "      <td>107000.0</td>\n",
       "      <td>Abee</td>\n",
       "      <td>Valid</td>\n",
       "      <td>EH4</td>\n",
       "      <td>54.21667</td>\n",
       "      <td>-113.00000</td>\n",
       "      <td>1952-01-01T00:00:00.000</td>\n",
       "      <td>-113</td>\n",
       "      <td>54.21667</td>\n",
       "    </tr>\n",
       "    <tr>\n",
       "      <th>3</th>\n",
       "      <td>Fell</td>\n",
       "      <td>{'type': 'Point', 'coordinates': [-99.9, 16.88...</td>\n",
       "      <td>10</td>\n",
       "      <td>1914.0</td>\n",
       "      <td>Acapulco</td>\n",
       "      <td>Valid</td>\n",
       "      <td>Acapulcoite</td>\n",
       "      <td>16.88333</td>\n",
       "      <td>-99.90000</td>\n",
       "      <td>1976-01-01T00:00:00.000</td>\n",
       "      <td>-99.9</td>\n",
       "      <td>16.88333</td>\n",
       "    </tr>\n",
       "    <tr>\n",
       "      <th>4</th>\n",
       "      <td>Fell</td>\n",
       "      <td>{'type': 'Point', 'coordinates': [-64.95, -33....</td>\n",
       "      <td>370</td>\n",
       "      <td>780.0</td>\n",
       "      <td>Achiras</td>\n",
       "      <td>Valid</td>\n",
       "      <td>L6</td>\n",
       "      <td>-33.16667</td>\n",
       "      <td>-64.95000</td>\n",
       "      <td>1902-01-01T00:00:00.000</td>\n",
       "      <td>-64.95</td>\n",
       "      <td>-33.16667</td>\n",
       "    </tr>\n",
       "  </tbody>\n",
       "</table>\n",
       "</div>"
      ],
      "text/plain": [
       "   fall                                        geolocation   id      mass  \\\n",
       "0  Fell  {'type': 'Point', 'coordinates': [6.08333, 50....    1      21.0   \n",
       "1  Fell  {'type': 'Point', 'coordinates': [10.23333, 56...    2     720.0   \n",
       "2  Fell  {'type': 'Point', 'coordinates': [-113, 54.216...    6  107000.0   \n",
       "3  Fell  {'type': 'Point', 'coordinates': [-99.9, 16.88...   10    1914.0   \n",
       "4  Fell  {'type': 'Point', 'coordinates': [-64.95, -33....  370     780.0   \n",
       "\n",
       "       name nametype     recclass    reclat    reclong  \\\n",
       "0    Aachen    Valid           L5  50.77500    6.08333   \n",
       "1    Aarhus    Valid           H6  56.18333   10.23333   \n",
       "2      Abee    Valid          EH4  54.21667 -113.00000   \n",
       "3  Acapulco    Valid  Acapulcoite  16.88333  -99.90000   \n",
       "4   Achiras    Valid           L6 -33.16667  -64.95000   \n",
       "\n",
       "                      year lattitude   longitude  \n",
       "0  1880-01-01T00:00:00.000   6.08333      50.775  \n",
       "1  1951-01-01T00:00:00.000  10.23333    56.18333  \n",
       "2  1952-01-01T00:00:00.000      -113    54.21667  \n",
       "3  1976-01-01T00:00:00.000     -99.9    16.88333  \n",
       "4  1902-01-01T00:00:00.000    -64.95   -33.16667  "
      ]
     },
     "execution_count": 160,
     "metadata": {},
     "output_type": "execute_result"
    }
   ],
   "source": [
    "dataset.head()"
   ]
  },
  {
   "cell_type": "code",
   "execution_count": 166,
   "metadata": {},
   "outputs": [],
   "source": [
    "dataset['year'] = pd.to_datetime(dataset['year'], errors='coerce')\n",
    "\n"
   ]
  },
  {
   "cell_type": "code",
   "execution_count": 170,
   "metadata": {},
   "outputs": [],
   "source": [
    "dataset['on_year'] = dataset['year'].dt.year"
   ]
  },
  {
   "cell_type": "code",
   "execution_count": 168,
   "metadata": {},
   "outputs": [
    {
     "data": {
      "text/html": [
       "<div>\n",
       "<style scoped>\n",
       "    .dataframe tbody tr th:only-of-type {\n",
       "        vertical-align: middle;\n",
       "    }\n",
       "\n",
       "    .dataframe tbody tr th {\n",
       "        vertical-align: top;\n",
       "    }\n",
       "\n",
       "    .dataframe thead th {\n",
       "        text-align: right;\n",
       "    }\n",
       "</style>\n",
       "<table border=\"1\" class=\"dataframe\">\n",
       "  <thead>\n",
       "    <tr style=\"text-align: right;\">\n",
       "      <th></th>\n",
       "      <th>fall</th>\n",
       "      <th>geolocation</th>\n",
       "      <th>id</th>\n",
       "      <th>mass</th>\n",
       "      <th>name</th>\n",
       "      <th>nametype</th>\n",
       "      <th>recclass</th>\n",
       "      <th>reclat</th>\n",
       "      <th>reclong</th>\n",
       "      <th>year</th>\n",
       "      <th>lattitude</th>\n",
       "      <th>longitude</th>\n",
       "      <th>on_year</th>\n",
       "    </tr>\n",
       "  </thead>\n",
       "  <tbody>\n",
       "    <tr>\n",
       "      <th>0</th>\n",
       "      <td>Fell</td>\n",
       "      <td>{'type': 'Point', 'coordinates': [6.08333, 50....</td>\n",
       "      <td>1</td>\n",
       "      <td>21.0</td>\n",
       "      <td>Aachen</td>\n",
       "      <td>Valid</td>\n",
       "      <td>L5</td>\n",
       "      <td>50.77500</td>\n",
       "      <td>6.08333</td>\n",
       "      <td>1880-01-01</td>\n",
       "      <td>6.08333</td>\n",
       "      <td>50.775</td>\n",
       "      <td>1880.0</td>\n",
       "    </tr>\n",
       "    <tr>\n",
       "      <th>1</th>\n",
       "      <td>Fell</td>\n",
       "      <td>{'type': 'Point', 'coordinates': [10.23333, 56...</td>\n",
       "      <td>2</td>\n",
       "      <td>720.0</td>\n",
       "      <td>Aarhus</td>\n",
       "      <td>Valid</td>\n",
       "      <td>H6</td>\n",
       "      <td>56.18333</td>\n",
       "      <td>10.23333</td>\n",
       "      <td>1951-01-01</td>\n",
       "      <td>10.23333</td>\n",
       "      <td>56.18333</td>\n",
       "      <td>1951.0</td>\n",
       "    </tr>\n",
       "    <tr>\n",
       "      <th>2</th>\n",
       "      <td>Fell</td>\n",
       "      <td>{'type': 'Point', 'coordinates': [-113, 54.216...</td>\n",
       "      <td>6</td>\n",
       "      <td>107000.0</td>\n",
       "      <td>Abee</td>\n",
       "      <td>Valid</td>\n",
       "      <td>EH4</td>\n",
       "      <td>54.21667</td>\n",
       "      <td>-113.00000</td>\n",
       "      <td>1952-01-01</td>\n",
       "      <td>-113</td>\n",
       "      <td>54.21667</td>\n",
       "      <td>1952.0</td>\n",
       "    </tr>\n",
       "    <tr>\n",
       "      <th>3</th>\n",
       "      <td>Fell</td>\n",
       "      <td>{'type': 'Point', 'coordinates': [-99.9, 16.88...</td>\n",
       "      <td>10</td>\n",
       "      <td>1914.0</td>\n",
       "      <td>Acapulco</td>\n",
       "      <td>Valid</td>\n",
       "      <td>Acapulcoite</td>\n",
       "      <td>16.88333</td>\n",
       "      <td>-99.90000</td>\n",
       "      <td>1976-01-01</td>\n",
       "      <td>-99.9</td>\n",
       "      <td>16.88333</td>\n",
       "      <td>1976.0</td>\n",
       "    </tr>\n",
       "    <tr>\n",
       "      <th>4</th>\n",
       "      <td>Fell</td>\n",
       "      <td>{'type': 'Point', 'coordinates': [-64.95, -33....</td>\n",
       "      <td>370</td>\n",
       "      <td>780.0</td>\n",
       "      <td>Achiras</td>\n",
       "      <td>Valid</td>\n",
       "      <td>L6</td>\n",
       "      <td>-33.16667</td>\n",
       "      <td>-64.95000</td>\n",
       "      <td>1902-01-01</td>\n",
       "      <td>-64.95</td>\n",
       "      <td>-33.16667</td>\n",
       "      <td>1902.0</td>\n",
       "    </tr>\n",
       "  </tbody>\n",
       "</table>\n",
       "</div>"
      ],
      "text/plain": [
       "   fall                                        geolocation   id      mass  \\\n",
       "0  Fell  {'type': 'Point', 'coordinates': [6.08333, 50....    1      21.0   \n",
       "1  Fell  {'type': 'Point', 'coordinates': [10.23333, 56...    2     720.0   \n",
       "2  Fell  {'type': 'Point', 'coordinates': [-113, 54.216...    6  107000.0   \n",
       "3  Fell  {'type': 'Point', 'coordinates': [-99.9, 16.88...   10    1914.0   \n",
       "4  Fell  {'type': 'Point', 'coordinates': [-64.95, -33....  370     780.0   \n",
       "\n",
       "       name nametype     recclass    reclat    reclong       year lattitude  \\\n",
       "0    Aachen    Valid           L5  50.77500    6.08333 1880-01-01   6.08333   \n",
       "1    Aarhus    Valid           H6  56.18333   10.23333 1951-01-01  10.23333   \n",
       "2      Abee    Valid          EH4  54.21667 -113.00000 1952-01-01      -113   \n",
       "3  Acapulco    Valid  Acapulcoite  16.88333  -99.90000 1976-01-01     -99.9   \n",
       "4   Achiras    Valid           L6 -33.16667  -64.95000 1902-01-01    -64.95   \n",
       "\n",
       "    longitude  on_year  \n",
       "0      50.775   1880.0  \n",
       "1    56.18333   1951.0  \n",
       "2    54.21667   1952.0  \n",
       "3    16.88333   1976.0  \n",
       "4   -33.16667   1902.0  "
      ]
     },
     "execution_count": 168,
     "metadata": {},
     "output_type": "execute_result"
    }
   ],
   "source": [
    "dataset.head()"
   ]
  },
  {
   "cell_type": "code",
   "execution_count": 172,
   "metadata": {},
   "outputs": [],
   "source": [
    "d_2000 = dataset[dataset['on_year']<2000.0]"
   ]
  },
  {
   "cell_type": "code",
   "execution_count": 173,
   "metadata": {},
   "outputs": [
    {
     "data": {
      "text/plain": [
       "(912, 13)"
      ]
     },
     "execution_count": 173,
     "metadata": {},
     "output_type": "execute_result"
    }
   ],
   "source": [
    "d_2000.shape"
   ]
  },
  {
   "cell_type": "code",
   "execution_count": 182,
   "metadata": {},
   "outputs": [],
   "source": [
    "d_mass = dataset[dataset['mass']>10000]"
   ]
  },
  {
   "cell_type": "code",
   "execution_count": 179,
   "metadata": {},
   "outputs": [
    {
     "name": "stdout",
     "output_type": "stream",
     "text": [
      "Collecting plotly\n",
      "  Using cached plotly-5.14.1-py2.py3-none-any.whl (15.3 MB)\n",
      "Requirement already satisfied: packaging in c:\\users\\k.vidya\\anaconda3\\lib\\site-packages (from plotly) (17.1)\n",
      "Requirement already satisfied: tenacity>=6.2.0 in c:\\users\\k.vidya\\anaconda3\\lib\\site-packages (from plotly) (8.2.2)\n",
      "Requirement already satisfied: pyparsing>=2.0.2 in c:\\users\\k.vidya\\anaconda3\\lib\\site-packages (from packaging->plotly) (2.2.0)\n",
      "Requirement already satisfied: six in c:\\users\\k.vidya\\anaconda3\\lib\\site-packages (from packaging->plotly) (1.11.0)\n",
      "Installing collected packages: plotly\n",
      "Successfully installed plotly-5.14.1\n"
     ]
    }
   ],
   "source": [
    "!pip install plotly"
   ]
  },
  {
   "cell_type": "code",
   "execution_count": 183,
   "metadata": {},
   "outputs": [
    {
     "data": {
      "text/plain": [
       "(243, 13)"
      ]
     },
     "execution_count": 183,
     "metadata": {},
     "output_type": "execute_result"
    }
   ],
   "source": [
    "d_mass.shape"
   ]
  },
  {
   "cell_type": "markdown",
   "metadata": {},
   "source": [
    "#### Question 9 -\n",
    "#### Write a program to read the data from the following link, perform data analysis and answer the followingquestions\n",
    "#### Note - 1. Write code comments wherever required for code understanding\n",
    "#### Link - https://data.wa.gov/api/views/f6w7-q2d2/rows.csv?accessType=DOWNLOAD\n",
    "#### Insights to be drawn -\n",
    "##### Get all the cars and their types that do not qualify for clean alternative fuel vehicle\n",
    "##### Get all TESLA cars with the model year, and model type made in Bothell City.\n",
    "##### Get all the cars that have an electric range of more than 100, and were made after 2015\n",
    "##### Draw plots to show the distribution between city and electric vehicle type"
   ]
  },
  {
   "cell_type": "code",
   "execution_count": 184,
   "metadata": {},
   "outputs": [],
   "source": [
    "df = pd.read_csv('Electric_Vehicle_Population_Data.csv')"
   ]
  },
  {
   "cell_type": "code",
   "execution_count": 185,
   "metadata": {},
   "outputs": [
    {
     "data": {
      "text/html": [
       "<div>\n",
       "<style scoped>\n",
       "    .dataframe tbody tr th:only-of-type {\n",
       "        vertical-align: middle;\n",
       "    }\n",
       "\n",
       "    .dataframe tbody tr th {\n",
       "        vertical-align: top;\n",
       "    }\n",
       "\n",
       "    .dataframe thead th {\n",
       "        text-align: right;\n",
       "    }\n",
       "</style>\n",
       "<table border=\"1\" class=\"dataframe\">\n",
       "  <thead>\n",
       "    <tr style=\"text-align: right;\">\n",
       "      <th></th>\n",
       "      <th>VIN (1-10)</th>\n",
       "      <th>County</th>\n",
       "      <th>City</th>\n",
       "      <th>State</th>\n",
       "      <th>Postal Code</th>\n",
       "      <th>Model Year</th>\n",
       "      <th>Make</th>\n",
       "      <th>Model</th>\n",
       "      <th>Electric Vehicle Type</th>\n",
       "      <th>Clean Alternative Fuel Vehicle (CAFV) Eligibility</th>\n",
       "      <th>Electric Range</th>\n",
       "      <th>Base MSRP</th>\n",
       "      <th>Legislative District</th>\n",
       "      <th>DOL Vehicle ID</th>\n",
       "      <th>Vehicle Location</th>\n",
       "      <th>Electric Utility</th>\n",
       "      <th>2020 Census Tract</th>\n",
       "    </tr>\n",
       "  </thead>\n",
       "  <tbody>\n",
       "    <tr>\n",
       "      <th>0</th>\n",
       "      <td>5YJXCAE26J</td>\n",
       "      <td>Yakima</td>\n",
       "      <td>Yakima</td>\n",
       "      <td>WA</td>\n",
       "      <td>98908.0</td>\n",
       "      <td>2018</td>\n",
       "      <td>TESLA</td>\n",
       "      <td>MODEL X</td>\n",
       "      <td>Battery Electric Vehicle (BEV)</td>\n",
       "      <td>Clean Alternative Fuel Vehicle Eligible</td>\n",
       "      <td>238</td>\n",
       "      <td>0</td>\n",
       "      <td>14.0</td>\n",
       "      <td>141151601</td>\n",
       "      <td>POINT (-120.56916 46.58514)</td>\n",
       "      <td>PACIFICORP</td>\n",
       "      <td>5.307700e+10</td>\n",
       "    </tr>\n",
       "    <tr>\n",
       "      <th>1</th>\n",
       "      <td>JHMZC5F37M</td>\n",
       "      <td>Kitsap</td>\n",
       "      <td>Poulsbo</td>\n",
       "      <td>WA</td>\n",
       "      <td>98370.0</td>\n",
       "      <td>2021</td>\n",
       "      <td>HONDA</td>\n",
       "      <td>CLARITY</td>\n",
       "      <td>Plug-in Hybrid Electric Vehicle (PHEV)</td>\n",
       "      <td>Clean Alternative Fuel Vehicle Eligible</td>\n",
       "      <td>47</td>\n",
       "      <td>0</td>\n",
       "      <td>23.0</td>\n",
       "      <td>171566447</td>\n",
       "      <td>POINT (-122.64681 47.73689)</td>\n",
       "      <td>PUGET SOUND ENERGY INC</td>\n",
       "      <td>5.303509e+10</td>\n",
       "    </tr>\n",
       "    <tr>\n",
       "      <th>2</th>\n",
       "      <td>5YJ3E1EB0K</td>\n",
       "      <td>King</td>\n",
       "      <td>Seattle</td>\n",
       "      <td>WA</td>\n",
       "      <td>98199.0</td>\n",
       "      <td>2019</td>\n",
       "      <td>TESLA</td>\n",
       "      <td>MODEL 3</td>\n",
       "      <td>Battery Electric Vehicle (BEV)</td>\n",
       "      <td>Clean Alternative Fuel Vehicle Eligible</td>\n",
       "      <td>220</td>\n",
       "      <td>0</td>\n",
       "      <td>36.0</td>\n",
       "      <td>9426525</td>\n",
       "      <td>POINT (-122.40092 47.65908)</td>\n",
       "      <td>CITY OF SEATTLE - (WA)|CITY OF TACOMA - (WA)</td>\n",
       "      <td>5.303301e+10</td>\n",
       "    </tr>\n",
       "    <tr>\n",
       "      <th>3</th>\n",
       "      <td>1N4AZ0CP5D</td>\n",
       "      <td>King</td>\n",
       "      <td>Seattle</td>\n",
       "      <td>WA</td>\n",
       "      <td>98119.0</td>\n",
       "      <td>2013</td>\n",
       "      <td>NISSAN</td>\n",
       "      <td>LEAF</td>\n",
       "      <td>Battery Electric Vehicle (BEV)</td>\n",
       "      <td>Clean Alternative Fuel Vehicle Eligible</td>\n",
       "      <td>75</td>\n",
       "      <td>0</td>\n",
       "      <td>36.0</td>\n",
       "      <td>211807760</td>\n",
       "      <td>POINT (-122.3684 47.64586)</td>\n",
       "      <td>CITY OF SEATTLE - (WA)|CITY OF TACOMA - (WA)</td>\n",
       "      <td>5.303301e+10</td>\n",
       "    </tr>\n",
       "    <tr>\n",
       "      <th>4</th>\n",
       "      <td>5YJSA1E21H</td>\n",
       "      <td>Thurston</td>\n",
       "      <td>Lacey</td>\n",
       "      <td>WA</td>\n",
       "      <td>98516.0</td>\n",
       "      <td>2017</td>\n",
       "      <td>TESLA</td>\n",
       "      <td>MODEL S</td>\n",
       "      <td>Battery Electric Vehicle (BEV)</td>\n",
       "      <td>Clean Alternative Fuel Vehicle Eligible</td>\n",
       "      <td>210</td>\n",
       "      <td>0</td>\n",
       "      <td>22.0</td>\n",
       "      <td>185810306</td>\n",
       "      <td>POINT (-122.75379 47.06316)</td>\n",
       "      <td>PUGET SOUND ENERGY INC</td>\n",
       "      <td>5.306701e+10</td>\n",
       "    </tr>\n",
       "  </tbody>\n",
       "</table>\n",
       "</div>"
      ],
      "text/plain": [
       "   VIN (1-10)    County     City State  Postal Code  Model Year    Make  \\\n",
       "0  5YJXCAE26J    Yakima   Yakima    WA      98908.0        2018   TESLA   \n",
       "1  JHMZC5F37M    Kitsap  Poulsbo    WA      98370.0        2021   HONDA   \n",
       "2  5YJ3E1EB0K      King  Seattle    WA      98199.0        2019   TESLA   \n",
       "3  1N4AZ0CP5D      King  Seattle    WA      98119.0        2013  NISSAN   \n",
       "4  5YJSA1E21H  Thurston    Lacey    WA      98516.0        2017   TESLA   \n",
       "\n",
       "     Model                   Electric Vehicle Type  \\\n",
       "0  MODEL X          Battery Electric Vehicle (BEV)   \n",
       "1  CLARITY  Plug-in Hybrid Electric Vehicle (PHEV)   \n",
       "2  MODEL 3          Battery Electric Vehicle (BEV)   \n",
       "3     LEAF          Battery Electric Vehicle (BEV)   \n",
       "4  MODEL S          Battery Electric Vehicle (BEV)   \n",
       "\n",
       "  Clean Alternative Fuel Vehicle (CAFV) Eligibility  Electric Range  \\\n",
       "0           Clean Alternative Fuel Vehicle Eligible             238   \n",
       "1           Clean Alternative Fuel Vehicle Eligible              47   \n",
       "2           Clean Alternative Fuel Vehicle Eligible             220   \n",
       "3           Clean Alternative Fuel Vehicle Eligible              75   \n",
       "4           Clean Alternative Fuel Vehicle Eligible             210   \n",
       "\n",
       "   Base MSRP  Legislative District  DOL Vehicle ID  \\\n",
       "0          0                  14.0       141151601   \n",
       "1          0                  23.0       171566447   \n",
       "2          0                  36.0         9426525   \n",
       "3          0                  36.0       211807760   \n",
       "4          0                  22.0       185810306   \n",
       "\n",
       "              Vehicle Location                              Electric Utility  \\\n",
       "0  POINT (-120.56916 46.58514)                                    PACIFICORP   \n",
       "1  POINT (-122.64681 47.73689)                        PUGET SOUND ENERGY INC   \n",
       "2  POINT (-122.40092 47.65908)  CITY OF SEATTLE - (WA)|CITY OF TACOMA - (WA)   \n",
       "3   POINT (-122.3684 47.64586)  CITY OF SEATTLE - (WA)|CITY OF TACOMA - (WA)   \n",
       "4  POINT (-122.75379 47.06316)                        PUGET SOUND ENERGY INC   \n",
       "\n",
       "   2020 Census Tract  \n",
       "0       5.307700e+10  \n",
       "1       5.303509e+10  \n",
       "2       5.303301e+10  \n",
       "3       5.303301e+10  \n",
       "4       5.306701e+10  "
      ]
     },
     "execution_count": 185,
     "metadata": {},
     "output_type": "execute_result"
    }
   ],
   "source": [
    "df.head()"
   ]
  },
  {
   "cell_type": "code",
   "execution_count": 187,
   "metadata": {},
   "outputs": [
    {
     "data": {
      "text/plain": [
       "(130443, 17)"
      ]
     },
     "execution_count": 187,
     "metadata": {},
     "output_type": "execute_result"
    }
   ],
   "source": [
    "df.shape"
   ]
  },
  {
   "cell_type": "code",
   "execution_count": 188,
   "metadata": {},
   "outputs": [
    {
     "name": "stdout",
     "output_type": "stream",
     "text": [
      "<class 'pandas.core.frame.DataFrame'>\n",
      "RangeIndex: 130443 entries, 0 to 130442\n",
      "Data columns (total 17 columns):\n",
      "VIN (1-10)                                           130443 non-null object\n",
      "County                                               130440 non-null object\n",
      "City                                                 130440 non-null object\n",
      "State                                                130443 non-null object\n",
      "Postal Code                                          130440 non-null float64\n",
      "Model Year                                           130443 non-null int64\n",
      "Make                                                 130443 non-null object\n",
      "Model                                                130221 non-null object\n",
      "Electric Vehicle Type                                130443 non-null object\n",
      "Clean Alternative Fuel Vehicle (CAFV) Eligibility    130443 non-null object\n",
      "Electric Range                                       130443 non-null int64\n",
      "Base MSRP                                            130443 non-null int64\n",
      "Legislative District                                 130138 non-null float64\n",
      "DOL Vehicle ID                                       130443 non-null int64\n",
      "Vehicle Location                                     130410 non-null object\n",
      "Electric Utility                                     130440 non-null object\n",
      "2020 Census Tract                                    130440 non-null float64\n",
      "dtypes: float64(3), int64(4), object(10)\n",
      "memory usage: 16.9+ MB\n"
     ]
    }
   ],
   "source": [
    "df.info()"
   ]
  },
  {
   "cell_type": "code",
   "execution_count": 190,
   "metadata": {},
   "outputs": [
    {
     "data": {
      "text/html": [
       "<div>\n",
       "<style scoped>\n",
       "    .dataframe tbody tr th:only-of-type {\n",
       "        vertical-align: middle;\n",
       "    }\n",
       "\n",
       "    .dataframe tbody tr th {\n",
       "        vertical-align: top;\n",
       "    }\n",
       "\n",
       "    .dataframe thead th {\n",
       "        text-align: right;\n",
       "    }\n",
       "</style>\n",
       "<table border=\"1\" class=\"dataframe\">\n",
       "  <thead>\n",
       "    <tr style=\"text-align: right;\">\n",
       "      <th></th>\n",
       "      <th>Postal Code</th>\n",
       "      <th>Model Year</th>\n",
       "      <th>Electric Range</th>\n",
       "      <th>Base MSRP</th>\n",
       "      <th>Legislative District</th>\n",
       "      <th>DOL Vehicle ID</th>\n",
       "      <th>2020 Census Tract</th>\n",
       "    </tr>\n",
       "  </thead>\n",
       "  <tbody>\n",
       "    <tr>\n",
       "      <th>count</th>\n",
       "      <td>130440.000000</td>\n",
       "      <td>130443.000000</td>\n",
       "      <td>130443.000000</td>\n",
       "      <td>130443.000000</td>\n",
       "      <td>130138.000000</td>\n",
       "      <td>1.304430e+05</td>\n",
       "      <td>1.304400e+05</td>\n",
       "    </tr>\n",
       "    <tr>\n",
       "      <th>mean</th>\n",
       "      <td>98167.633878</td>\n",
       "      <td>2019.554633</td>\n",
       "      <td>76.705718</td>\n",
       "      <td>1495.677346</td>\n",
       "      <td>29.577026</td>\n",
       "      <td>2.051796e+08</td>\n",
       "      <td>5.297177e+10</td>\n",
       "    </tr>\n",
       "    <tr>\n",
       "      <th>std</th>\n",
       "      <td>2492.197784</td>\n",
       "      <td>2.989137</td>\n",
       "      <td>99.421571</td>\n",
       "      <td>9844.748414</td>\n",
       "      <td>14.767508</td>\n",
       "      <td>8.710573e+07</td>\n",
       "      <td>1.640658e+09</td>\n",
       "    </tr>\n",
       "    <tr>\n",
       "      <th>min</th>\n",
       "      <td>1730.000000</td>\n",
       "      <td>1997.000000</td>\n",
       "      <td>0.000000</td>\n",
       "      <td>0.000000</td>\n",
       "      <td>1.000000</td>\n",
       "      <td>4.385000e+03</td>\n",
       "      <td>1.081042e+09</td>\n",
       "    </tr>\n",
       "    <tr>\n",
       "      <th>25%</th>\n",
       "      <td>98052.000000</td>\n",
       "      <td>2018.000000</td>\n",
       "      <td>0.000000</td>\n",
       "      <td>0.000000</td>\n",
       "      <td>18.000000</td>\n",
       "      <td>1.568004e+08</td>\n",
       "      <td>5.303301e+10</td>\n",
       "    </tr>\n",
       "    <tr>\n",
       "      <th>50%</th>\n",
       "      <td>98121.000000</td>\n",
       "      <td>2020.000000</td>\n",
       "      <td>23.000000</td>\n",
       "      <td>0.000000</td>\n",
       "      <td>34.000000</td>\n",
       "      <td>2.034934e+08</td>\n",
       "      <td>5.303303e+10</td>\n",
       "    </tr>\n",
       "    <tr>\n",
       "      <th>75%</th>\n",
       "      <td>98370.000000</td>\n",
       "      <td>2022.000000</td>\n",
       "      <td>151.000000</td>\n",
       "      <td>0.000000</td>\n",
       "      <td>43.000000</td>\n",
       "      <td>2.290791e+08</td>\n",
       "      <td>5.305307e+10</td>\n",
       "    </tr>\n",
       "    <tr>\n",
       "      <th>max</th>\n",
       "      <td>99701.000000</td>\n",
       "      <td>2023.000000</td>\n",
       "      <td>337.000000</td>\n",
       "      <td>845000.000000</td>\n",
       "      <td>49.000000</td>\n",
       "      <td>4.792548e+08</td>\n",
       "      <td>5.603300e+10</td>\n",
       "    </tr>\n",
       "  </tbody>\n",
       "</table>\n",
       "</div>"
      ],
      "text/plain": [
       "         Postal Code     Model Year  Electric Range      Base MSRP  \\\n",
       "count  130440.000000  130443.000000   130443.000000  130443.000000   \n",
       "mean    98167.633878    2019.554633       76.705718    1495.677346   \n",
       "std      2492.197784       2.989137       99.421571    9844.748414   \n",
       "min      1730.000000    1997.000000        0.000000       0.000000   \n",
       "25%     98052.000000    2018.000000        0.000000       0.000000   \n",
       "50%     98121.000000    2020.000000       23.000000       0.000000   \n",
       "75%     98370.000000    2022.000000      151.000000       0.000000   \n",
       "max     99701.000000    2023.000000      337.000000  845000.000000   \n",
       "\n",
       "       Legislative District  DOL Vehicle ID  2020 Census Tract  \n",
       "count         130138.000000    1.304430e+05       1.304400e+05  \n",
       "mean              29.577026    2.051796e+08       5.297177e+10  \n",
       "std               14.767508    8.710573e+07       1.640658e+09  \n",
       "min                1.000000    4.385000e+03       1.081042e+09  \n",
       "25%               18.000000    1.568004e+08       5.303301e+10  \n",
       "50%               34.000000    2.034934e+08       5.303303e+10  \n",
       "75%               43.000000    2.290791e+08       5.305307e+10  \n",
       "max               49.000000    4.792548e+08       5.603300e+10  "
      ]
     },
     "execution_count": 190,
     "metadata": {},
     "output_type": "execute_result"
    }
   ],
   "source": [
    "df.describe()"
   ]
  },
  {
   "cell_type": "code",
   "execution_count": 193,
   "metadata": {},
   "outputs": [
    {
     "data": {
      "text/plain": [
       "VIN (1-10)                                           0\n",
       "County                                               0\n",
       "City                                                 0\n",
       "State                                                0\n",
       "Postal Code                                          0\n",
       "Model Year                                           0\n",
       "Make                                                 0\n",
       "Model                                                0\n",
       "Electric Vehicle Type                                0\n",
       "Clean Alternative Fuel Vehicle (CAFV) Eligibility    0\n",
       "Electric Range                                       0\n",
       "Base MSRP                                            0\n",
       "Legislative District                                 0\n",
       "DOL Vehicle ID                                       0\n",
       "Vehicle Location                                     0\n",
       "Electric Utility                                     0\n",
       "2020 Census Tract                                    0\n",
       "dtype: int64"
      ]
     },
     "execution_count": 193,
     "metadata": {},
     "output_type": "execute_result"
    }
   ],
   "source": [
    "df.isnull().sum()"
   ]
  },
  {
   "cell_type": "code",
   "execution_count": 192,
   "metadata": {},
   "outputs": [],
   "source": [
    "df.dropna(inplace=True)"
   ]
  },
  {
   "cell_type": "code",
   "execution_count": 194,
   "metadata": {},
   "outputs": [
    {
     "data": {
      "text/html": [
       "<div>\n",
       "<style scoped>\n",
       "    .dataframe tbody tr th:only-of-type {\n",
       "        vertical-align: middle;\n",
       "    }\n",
       "\n",
       "    .dataframe tbody tr th {\n",
       "        vertical-align: top;\n",
       "    }\n",
       "\n",
       "    .dataframe thead th {\n",
       "        text-align: right;\n",
       "    }\n",
       "</style>\n",
       "<table border=\"1\" class=\"dataframe\">\n",
       "  <thead>\n",
       "    <tr style=\"text-align: right;\">\n",
       "      <th></th>\n",
       "      <th>VIN (1-10)</th>\n",
       "      <th>County</th>\n",
       "      <th>City</th>\n",
       "      <th>State</th>\n",
       "      <th>Postal Code</th>\n",
       "      <th>Model Year</th>\n",
       "      <th>Make</th>\n",
       "      <th>Model</th>\n",
       "      <th>Electric Vehicle Type</th>\n",
       "      <th>Clean Alternative Fuel Vehicle (CAFV) Eligibility</th>\n",
       "      <th>Electric Range</th>\n",
       "      <th>Base MSRP</th>\n",
       "      <th>Legislative District</th>\n",
       "      <th>DOL Vehicle ID</th>\n",
       "      <th>Vehicle Location</th>\n",
       "      <th>Electric Utility</th>\n",
       "      <th>2020 Census Tract</th>\n",
       "    </tr>\n",
       "  </thead>\n",
       "  <tbody>\n",
       "  </tbody>\n",
       "</table>\n",
       "</div>"
      ],
      "text/plain": [
       "Empty DataFrame\n",
       "Columns: [VIN (1-10), County, City, State, Postal Code, Model Year, Make, Model, Electric Vehicle Type, Clean Alternative Fuel Vehicle (CAFV) Eligibility, Electric Range, Base MSRP, Legislative District, DOL Vehicle ID, Vehicle Location, Electric Utility, 2020 Census Tract]\n",
       "Index: []"
      ]
     },
     "execution_count": 194,
     "metadata": {},
     "output_type": "execute_result"
    }
   ],
   "source": [
    "df[df.duplicated()]"
   ]
  },
  {
   "cell_type": "code",
   "execution_count": 195,
   "metadata": {},
   "outputs": [
    {
     "data": {
      "text/plain": [
       "Clean Alternative Fuel Vehicle Eligible                         60402\n",
       "Eligibility unknown as battery range has not been researched    53108\n",
       "Not eligible due to low battery range                           16379\n",
       "Name: Clean Alternative Fuel Vehicle (CAFV) Eligibility, dtype: int64"
      ]
     },
     "execution_count": 195,
     "metadata": {},
     "output_type": "execute_result"
    }
   ],
   "source": [
    "df['Clean Alternative Fuel Vehicle (CAFV) Eligibility'].value_counts()"
   ]
  },
  {
   "cell_type": "code",
   "execution_count": 200,
   "metadata": {},
   "outputs": [],
   "source": [
    "d_cars = df[df['Clean Alternative Fuel Vehicle (CAFV) Eligibility']=='Not eligible due to low battery range']"
   ]
  },
  {
   "cell_type": "code",
   "execution_count": 202,
   "metadata": {},
   "outputs": [
    {
     "data": {
      "image/png": "[encoded data removed]",
      "text/plain": [
       "<Figure size 864x864 with 1 Axes>"
      ]
     },
     "metadata": {},
     "output_type": "display_data"
    }
   ],
   "source": [
    "plt.figure(figsize=(12,12))\n",
    "sns.countplot(d_cars['Make'])\n",
    "plt.show()"
   ]
  },
  {
   "cell_type": "code",
   "execution_count": 210,
   "metadata": {},
   "outputs": [],
   "source": [
    "d_models = df[(df['Make']=='TESLA') & (df['City']=='Bothell')]"
   ]
  },
  {
   "cell_type": "code",
   "execution_count": 211,
   "metadata": {},
   "outputs": [
    {
     "data": {
      "image/png": "[encoded data removed]",
      "text/plain": [
       "<Figure size 864x864 with 1 Axes>"
      ]
     },
     "metadata": {},
     "output_type": "display_data"
    }
   ],
   "source": [
    "plt.figure(figsize=(12,12))\n",
    "sns.countplot(d_models['Model'])\n",
    "plt.show()"
   ]
  },
  {
   "cell_type": "markdown",
   "metadata": {},
   "source": [
    "#### Question 10 -\n",
    "#### Write a program to count the number of verbs, nouns, pronouns, and adjectives in a given particular phrase or paragraph, and return their respective count as a dictionary.\n",
    "#### Note - 1. Write code comments wherever required for code\n",
    "#### 2. You have to write at least 2 additional test cases in which your program will run successfully and provide an explanation for the same."
   ]
  },
  {
   "cell_type": "code",
   "execution_count": 2,
   "metadata": {},
   "outputs": [
    {
     "name": "stdout",
     "output_type": "stream",
     "text": [
      "[nltk_data] Downloading package averaged_perceptron_tagger to\n",
      "[nltk_data]     C:\\Users\\k.vidya\\AppData\\Roaming\\nltk_data...\n",
      "[nltk_data]   Package averaged_perceptron_tagger is already up-to-\n",
      "[nltk_data]       date!\n"
     ]
    },
    {
     "data": {
      "text/plain": [
       "True"
      ]
     },
     "execution_count": 2,
     "metadata": {},
     "output_type": "execute_result"
    }
   ],
   "source": [
    "import nltk\n",
    "nltk.download(\"averaged_perceptron_tagger\")"
   ]
  },
  {
   "cell_type": "code",
   "execution_count": 3,
   "metadata": {},
   "outputs": [
    {
     "name": "stdout",
     "output_type": "stream",
     "text": [
      "{'Verbs': 3, 'Nouns': 4, 'Pronouns': 1, 'Adjectives': 2}\n"
     ]
    }
   ],
   "source": [
    "import nltk\n",
    "from nltk import pos_tag\n",
    "from nltk.tokenize import word_tokenize\n",
    "\n",
    "def count_pos_tags(text):\n",
    "    # Tokenize the text into words\n",
    "    words = word_tokenize(text)\n",
    "    \n",
    "    # Perform Part-of-Speech tagging\n",
    "    tagged_words = pos_tag(words)\n",
    "    \n",
    "    # Initialize counts for verbs, nouns, pronouns, and adjectives\n",
    "    counts = {'Verbs': 0, 'Nouns': 0, 'Pronouns': 0, 'Adjectives': 0}\n",
    "    \n",
    "    # Count the occurrences of each POS tag\n",
    "    for word, tag in tagged_words:\n",
    "        if tag.startswith('V'):  # Verb\n",
    "            counts['Verbs'] += 1\n",
    "        elif tag.startswith('N'):  # Noun\n",
    "            counts['Nouns'] += 1\n",
    "        elif tag == 'PRP' or tag == 'PRP$':  # Pronoun\n",
    "            counts['Pronouns'] += 1\n",
    "        elif tag.startswith('J'):  # Adjective\n",
    "            counts['Adjectives'] += 1\n",
    "    \n",
    "    return counts\n",
    "\n",
    "# Example usage\n",
    "text = \"The quick brown fox jumps over the lazy dog. He enjoys running in the park.\"\n",
    "counts = count_pos_tags(text)\n",
    "print(counts)\n"
   ]
  },
  {
   "cell_type": "code",
   "execution_count": null,
   "metadata": {},
   "outputs": [],
   "source": []
  }
 ],
 "metadata": {
  "kernelspec": {
   "display_name": "Python 3",
   "language": "python",
   "name": "python3"
  },
  "language_info": {
   "codemirror_mode": {
    "name": "ipython",
    "version": 3
   },
   "file_extension": ".py",
   "mimetype": "text/x-python",
   "name": "python",
   "nbconvert_exporter": "python",
   "pygments_lexer": "ipython3",
   "version": "3.6.5"
  }
 },
 "nbformat": 4,
 "nbformat_minor": 2
}
